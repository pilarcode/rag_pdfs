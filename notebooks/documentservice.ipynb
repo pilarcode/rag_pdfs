{
 "cells": [
  {
   "cell_type": "code",
   "execution_count": 1,
   "metadata": {},
   "outputs": [],
   "source": [
    "%load_ext autoreload\n",
    "%autoreload 2"
   ]
  },
  {
   "cell_type": "code",
   "execution_count": 2,
   "metadata": {},
   "outputs": [],
   "source": [
    "import sys\n",
    "sys.path.append(\"../src\")\n",
    "from documentservice import DocumentService"
   ]
  },
  {
   "cell_type": "markdown",
   "metadata": {},
   "source": [
    "* Instanciate the document service"
   ]
  },
  {
   "cell_type": "code",
   "execution_count": 3,
   "metadata": {},
   "outputs": [],
   "source": [
    "\n",
    "PDF_PATH = \"../app/scenario/How-Women-Rise.pdf\"\n",
    "doc_service = DocumentService(path=PDF_PATH)\n"
   ]
  },
  {
   "cell_type": "code",
   "execution_count": 4,
   "metadata": {},
   "outputs": [],
   "source": [
    "docs = doc_service.get_docs()"
   ]
  },
  {
   "cell_type": "code",
   "execution_count": 5,
   "metadata": {},
   "outputs": [
    {
     "name": "stdout",
     "output_type": "stream",
     "text": [
      "loaded :  504\n"
     ]
    }
   ],
   "source": [
    "print(\"loaded : \", len(docs))"
   ]
  },
  {
   "cell_type": "code",
   "execution_count": 11,
   "metadata": {},
   "outputs": [
    {
     "name": "stdout",
     "output_type": "stream",
     "text": [
      "incur higher costs. That’ s because when you represent your or ganization as\n",
      "Amy do es, diverting credit not only diminishes your own achievements, it\n",
      "undercuts the visibility of the people you work with: colleagues, employees,\n",
      "partners, senior leaders, and, in Amy’ s case, her board.\n",
      "Or ganizations often fail to address women’ s reluctance to ef fectively\n",
      "market t hemselves because they assume a male leadership template. Sally\n",
      "got a sense of h ow ingrained this assumption can be a few year s ago when\n",
      "participating in a women’ s leadership forum at one of th e big four\n",
      "accounting firms. The regional event was held at a resort outside Atlanta.\n",
      "Since she was moderating two panels, Sally had interviewed a number\n",
      "of senior women at the firm in advance and delivered the quick  quiz she’d\n",
      "used in the workshop with Amy to every participant. The results made clear\n",
      "that, alth ough m any of the wom en were confident of their abilit y to deliver\n"
     ]
    }
   ],
   "source": [
    "print(docs[150].page_content)\n"
   ]
  },
  {
   "cell_type": "code",
   "execution_count": 12,
   "metadata": {},
   "outputs": [
    {
     "data": {
      "text/plain": [
       "{'pagina': 61, 'fichero': 'How-Women-Rise.pdf'}"
      ]
     },
     "execution_count": 12,
     "metadata": {},
     "output_type": "execute_result"
    }
   ],
   "source": [
    "docs[150].metadata"
   ]
  }
 ],
 "metadata": {
  "kernelspec": {
   "display_name": "ia_dev",
   "language": "python",
   "name": "python3"
  },
  "language_info": {
   "codemirror_mode": {
    "name": "ipython",
    "version": 3
   },
   "file_extension": ".py",
   "mimetype": "text/x-python",
   "name": "python",
   "nbconvert_exporter": "python",
   "pygments_lexer": "ipython3",
   "version": "3.11.8"
  }
 },
 "nbformat": 4,
 "nbformat_minor": 2
}
