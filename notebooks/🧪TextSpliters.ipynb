{
 "cells": [
  {
   "cell_type": "code",
   "execution_count": 1,
   "metadata": {},
   "outputs": [],
   "source": [
    "%load_ext autoreload\n",
    "%autoreload 2"
   ]
  },
  {
   "cell_type": "code",
   "execution_count": 36,
   "metadata": {},
   "outputs": [],
   "source": [
    "import sys\n",
    "import os\n",
    "from langchain.document_loaders import PyMuPDFLoader\n",
    "from langchain.text_splitter import RecursiveCharacterTextSplitter\n",
    "from langchain.text_splitter import TokenTextSplitter\n",
    "from langchain.text_splitter import CharacterTextSplitter"
   ]
  },
  {
   "cell_type": "markdown",
   "metadata": {},
   "source": [
    "# Load docs"
   ]
  },
  {
   "cell_type": "code",
   "execution_count": 3,
   "metadata": {},
   "outputs": [],
   "source": [
    "PDF_PATH = \"../app/scenario/How-Women-Rise.pdf\""
   ]
  },
  {
   "cell_type": "code",
   "execution_count": 22,
   "metadata": {},
   "outputs": [
    {
     "name": "stdout",
     "output_type": "stream",
     "text": [
      "198\n"
     ]
    }
   ],
   "source": [
    "loader = PyMuPDFLoader(PDF_PATH)\n",
    "pages =loader.load()\n",
    "print(len(pages))"
   ]
  },
  {
   "cell_type": "code",
   "execution_count": 23,
   "metadata": {},
   "outputs": [
    {
     "name": "stdout",
     "output_type": "stream",
     "text": [
      "1191\n",
      "2017\n",
      "2348\n",
      "2413\n"
     ]
    }
   ],
   "source": [
    "print(len(pages[2].page_content))\n",
    "print(len(pages[100].page_content))\n",
    "print(len(pages[10].page_content))\n",
    "print(len(pages[50].page_content))\n",
    "\n"
   ]
  },
  {
   "cell_type": "markdown",
   "metadata": {},
   "source": [
    "# Text Splitters"
   ]
  },
  {
   "cell_type": "code",
   "execution_count": 80,
   "metadata": {},
   "outputs": [
    {
     "name": "stdout",
     "output_type": "stream",
     "text": [
      "that help people achieve high positions often undermine them as they seek\n",
      "to move further up. Because these behaviors worked in the past, people are\n",
      "reluctant to let go of them. On the contrary, many believe they are\n",
      "successful because of these bad habits.\n",
      "Any human, in fact any animal, will tend to replicate behavior that is\n",
      "followed by positive reinforcement. The more successful we become, the\n",
      "more positive reinforcement we get. We can easily fall into the “superstition\n",
      "trap,” which is: “I behave this way, I am successful—therefore I must be\n",
      "successful because I behave this way.”\n",
      "Wrong!\n",
      "We are all successful because of the fact that we do many things right\n",
      "and in spite of the fact that we are doing some things that actually work\n",
      "against us.\n",
      "Marshall wrote the book for a broad audience—not just leaders at the\n",
      "top of their organization’s pyramid or ladder, but those on the middle rungs\n",
      "as well. What Got You Here is basically for anyone whose behavior gets in\n",
      "the way of where he or she ultimately wants to go.\n",
      "Since publication, Marshall has traveled the world sharing and\n",
      "developing the ideas he put forth in the book. But in the course of doing so,\n",
      "and especially while delivering a series of workshops for women based on\n",
      "his 2015 best seller Triggers, he came to recognize that some of the more\n",
      "aggressive and self-centered behaviors he identifies as problematic in What\n",
      "Got You Here are less likely to be stumbling blocks for successful women\n",
      "than they are for men.\n",
      "For example, instead of claiming credit they don’t deserve, women are\n",
      "often reluctant to claim their own achievements. Instead of always needing\n",
      "to be right, women are more likely to be hobbled by the desire to please or\n",
      "the need to be perfect. Instead of refusing to express regret, women often\n",
      "can’t stop apologizing, even for things that are not their fault.\n",
      "Everyone has self-limiting behaviors, for the simple reason that we are\n",
      "all human. But although men and women do sometimes share the same\n",
      "undermining habits, they frequently do not. Women often face very\n",
      "different challenges as they seek to advance in their careers and operate on\n",
      "a bigger playing field, so it makes sense that women would adapt their\n",
      "behavior in different ways. And women are often rewarded differently, as\n",
      "we will show in the next chapter. These differences shape their expectations\n",
      "\n",
      "2348\n"
     ]
    }
   ],
   "source": [
    "sample = pages[10].page_content\n",
    "print(sample)\n",
    "print(len(sample))"
   ]
  },
  {
   "cell_type": "markdown",
   "metadata": {},
   "source": [
    "## RecursiveCharacterTextSplitter\n",
    "\n",
    "This text splitter is the recommended one for generic text. It is parameterized by a list of characters. It tries to split on them in order until the chunks are small enough. The default list is [\"\\n\\n\", \"\\n\", \" \", \"\"]. This has the effect of trying to keep all paragraphs (and then sentences, and then words) together as long as possible, as those would generically seem to be the strongest semantically related pieces of text."
   ]
  },
  {
   "cell_type": "code",
   "execution_count": 89,
   "metadata": {},
   "outputs": [],
   "source": [
    "text_splitter_rc = RecursiveCharacterTextSplitter(\n",
    "    chunk_size=500,\n",
    "    chunk_overlap=0)"
   ]
  },
  {
   "cell_type": "code",
   "execution_count": 90,
   "metadata": {},
   "outputs": [
    {
     "name": "stdout",
     "output_type": "stream",
     "text": [
      "5\n"
     ]
    }
   ],
   "source": [
    "docs = text_splitter_rc.create_documents([pages[10].page_content])\n",
    "print(len(docs))"
   ]
  },
  {
   "cell_type": "code",
   "execution_count": 91,
   "metadata": {},
   "outputs": [
    {
     "data": {
      "text/plain": [
       "[Document(page_content='that help people achieve high positions often undermine them as they seek\\nto move further up. Because these behaviors worked in the past, people are\\nreluctant to let go of them. On the contrary, many believe they are\\nsuccessful because of these bad habits.\\nAny human, in fact any animal, will tend to replicate behavior that is\\nfollowed by positive reinforcement. The more successful we become, the\\nmore positive reinforcement we get. We can easily fall into the “superstition'),\n",
       " Document(page_content='trap,” which is: “I behave this way, I am successful—therefore I must be\\nsuccessful because I behave this way.”\\nWrong!\\nWe are all successful because of the fact that we do many things right\\nand in spite of the fact that we are doing some things that actually work\\nagainst us.\\nMarshall wrote the book for a broad audience—not just leaders at the\\ntop of their organization’s pyramid or ladder, but those on the middle rungs\\nas well. What Got You Here is basically for anyone whose behavior gets in'),\n",
       " Document(page_content='the way of where he or she ultimately wants to go.\\nSince publication, Marshall has traveled the world sharing and\\ndeveloping the ideas he put forth in the book. But in the course of doing so,\\nand especially while delivering a series of workshops for women based on\\nhis 2015 best seller Triggers, he came to recognize that some of the more\\naggressive and self-centered behaviors he identifies as problematic in What\\nGot You Here are less likely to be stumbling blocks for successful women'),\n",
       " Document(page_content='than they are for men.\\nFor example, instead of claiming credit they don’t deserve, women are\\noften reluctant to claim their own achievements. Instead of always needing\\nto be right, women are more likely to be hobbled by the desire to please or\\nthe need to be perfect. Instead of refusing to express regret, women often\\ncan’t stop apologizing, even for things that are not their fault.\\nEveryone has self-limiting behaviors, for the simple reason that we are'),\n",
       " Document(page_content='all human. But although men and women do sometimes share the same\\nundermining habits, they frequently do not. Women often face very\\ndifferent challenges as they seek to advance in their careers and operate on\\na bigger playing field, so it makes sense that women would adapt their\\nbehavior in different ways. And women are often rewarded differently, as\\nwe will show in the next chapter. These differences shape their expectations')]"
      ]
     },
     "execution_count": 91,
     "metadata": {},
     "output_type": "execute_result"
    }
   ],
   "source": [
    "docs"
   ]
  },
  {
   "cell_type": "code",
   "execution_count": 92,
   "metadata": {},
   "outputs": [
    {
     "name": "stdout",
     "output_type": "stream",
     "text": [
      "476\n",
      "495\n",
      "487\n",
      "456\n",
      "429\n"
     ]
    }
   ],
   "source": [
    "print(len(docs[0].page_content))\n",
    "print(len(docs[1].page_content))\n",
    "print(len(docs[2].page_content))\n",
    "print(len(docs[3].page_content))\n",
    "print(len(docs[4].page_content))"
   ]
  },
  {
   "cell_type": "markdown",
   "metadata": {},
   "source": [
    "## CharacterTextSplitter\n",
    "This is the simplest method. This splits based on characters (by default “”) and measure chunk length by number of characters."
   ]
  },
  {
   "cell_type": "code",
   "execution_count": 93,
   "metadata": {},
   "outputs": [],
   "source": [
    "text_splitter_basic = CharacterTextSplitter(\n",
    "    separator=\"\\n\",\n",
    "    chunk_size=500, \n",
    "    chunk_overlap=20,\n",
    "    is_separator_regex=False,\n",
    ")\n"
   ]
  },
  {
   "cell_type": "code",
   "execution_count": 94,
   "metadata": {},
   "outputs": [
    {
     "name": "stdout",
     "output_type": "stream",
     "text": [
      "5\n",
      "[Document(page_content='that help people achieve high positions often undermine them as they seek\\nto move further up. Because these behaviors worked in the past, people are\\nreluctant to let go of them. On the contrary, many believe they are\\nsuccessful because of these bad habits.\\nAny human, in fact any animal, will tend to replicate behavior that is\\nfollowed by positive reinforcement. The more successful we become, the\\nmore positive reinforcement we get. We can easily fall into the “superstition'), Document(page_content='trap,” which is: “I behave this way, I am successful—therefore I must be\\nsuccessful because I behave this way.”\\nWrong!\\nWe are all successful because of the fact that we do many things right\\nand in spite of the fact that we are doing some things that actually work\\nagainst us.\\nMarshall wrote the book for a broad audience—not just leaders at the\\ntop of their organization’s pyramid or ladder, but those on the middle rungs\\nas well. What Got You Here is basically for anyone whose behavior gets in'), Document(page_content='the way of where he or she ultimately wants to go.\\nSince publication, Marshall has traveled the world sharing and\\ndeveloping the ideas he put forth in the book. But in the course of doing so,\\nand especially while delivering a series of workshops for women based on\\nhis 2015 best seller Triggers, he came to recognize that some of the more\\naggressive and self-centered behaviors he identifies as problematic in What\\nGot You Here are less likely to be stumbling blocks for successful women'), Document(page_content='than they are for men.\\nFor example, instead of claiming credit they don’t deserve, women are\\noften reluctant to claim their own achievements. Instead of always needing\\nto be right, women are more likely to be hobbled by the desire to please or\\nthe need to be perfect. Instead of refusing to express regret, women often\\ncan’t stop apologizing, even for things that are not their fault.\\nEveryone has self-limiting behaviors, for the simple reason that we are'), Document(page_content='all human. But although men and women do sometimes share the same\\nundermining habits, they frequently do not. Women often face very\\ndifferent challenges as they seek to advance in their careers and operate on\\na bigger playing field, so it makes sense that women would adapt their\\nbehavior in different ways. And women are often rewarded differently, as\\nwe will show in the next chapter. These differences shape their expectations')]\n"
     ]
    }
   ],
   "source": [
    "docs = text_splitter_basic.create_documents([sample])\n",
    "print(len(docs))\n",
    "print(docs)"
   ]
  },
  {
   "cell_type": "code",
   "execution_count": 95,
   "metadata": {},
   "outputs": [
    {
     "data": {
      "text/plain": [
       "[Document(page_content='that help people achieve high positions often undermine them as they seek\\nto move further up. Because these behaviors worked in the past, people are\\nreluctant to let go of them. On the contrary, many believe they are\\nsuccessful because of these bad habits.\\nAny human, in fact any animal, will tend to replicate behavior that is\\nfollowed by positive reinforcement. The more successful we become, the\\nmore positive reinforcement we get. We can easily fall into the “superstition'),\n",
       " Document(page_content='trap,” which is: “I behave this way, I am successful—therefore I must be\\nsuccessful because I behave this way.”\\nWrong!\\nWe are all successful because of the fact that we do many things right\\nand in spite of the fact that we are doing some things that actually work\\nagainst us.\\nMarshall wrote the book for a broad audience—not just leaders at the\\ntop of their organization’s pyramid or ladder, but those on the middle rungs\\nas well. What Got You Here is basically for anyone whose behavior gets in'),\n",
       " Document(page_content='the way of where he or she ultimately wants to go.\\nSince publication, Marshall has traveled the world sharing and\\ndeveloping the ideas he put forth in the book. But in the course of doing so,\\nand especially while delivering a series of workshops for women based on\\nhis 2015 best seller Triggers, he came to recognize that some of the more\\naggressive and self-centered behaviors he identifies as problematic in What\\nGot You Here are less likely to be stumbling blocks for successful women'),\n",
       " Document(page_content='than they are for men.\\nFor example, instead of claiming credit they don’t deserve, women are\\noften reluctant to claim their own achievements. Instead of always needing\\nto be right, women are more likely to be hobbled by the desire to please or\\nthe need to be perfect. Instead of refusing to express regret, women often\\ncan’t stop apologizing, even for things that are not their fault.\\nEveryone has self-limiting behaviors, for the simple reason that we are'),\n",
       " Document(page_content='all human. But although men and women do sometimes share the same\\nundermining habits, they frequently do not. Women often face very\\ndifferent challenges as they seek to advance in their careers and operate on\\na bigger playing field, so it makes sense that women would adapt their\\nbehavior in different ways. And women are often rewarded differently, as\\nwe will show in the next chapter. These differences shape their expectations')]"
      ]
     },
     "execution_count": 95,
     "metadata": {},
     "output_type": "execute_result"
    }
   ],
   "source": [
    "docs\n"
   ]
  },
  {
   "cell_type": "code",
   "execution_count": 96,
   "metadata": {},
   "outputs": [
    {
     "name": "stdout",
     "output_type": "stream",
     "text": [
      "476\n",
      "495\n",
      "487\n",
      "456\n",
      "429\n"
     ]
    }
   ],
   "source": [
    "print(len(docs[0].page_content))\n",
    "print(len(docs[1].page_content))\n",
    "print(len(docs[2].page_content))\n",
    "print(len(docs[3].page_content))\n",
    "print(len(docs[4].page_content))"
   ]
  },
  {
   "cell_type": "markdown",
   "metadata": {},
   "source": [
    "## TokenTextSplitter\n",
    "\n",
    "\n",
    "The main advantage of using TokenTextSplitter over other text splitters, like CharacterTextSplitter, is that it respects the token boundaries, ensuring that the chunks do not split tokens in the middle. This can be particularly helpful in maintaining the semantic integrity of the text when working with language models and embeddings.\n",
    "\n",
    "Tiktoken is a fast BPE tokenizer created by OpenAI.\n"
   ]
  },
  {
   "cell_type": "code",
   "execution_count": 107,
   "metadata": {},
   "outputs": [],
   "source": [
    "from langchain.text_splitter import TokenTextSplitter\n"
   ]
  },
  {
   "cell_type": "code",
   "execution_count": 111,
   "metadata": {},
   "outputs": [],
   "source": [
    "text_splitter = TokenTextSplitter(\n",
    "    chunk_size=500, \n",
    "    chunk_overlap=10\n",
    ")\n"
   ]
  },
  {
   "cell_type": "code",
   "execution_count": 112,
   "metadata": {},
   "outputs": [
    {
     "name": "stdout",
     "output_type": "stream",
     "text": [
      "2\n",
      "['that help people achieve high positions often undermine them as they seek\\nto move further up. Because these behaviors worked in the past, people are\\nreluctant to let go of them. On the contrary, many believe they are\\nsuccessful because of these bad habits.\\nAny human, in fact any animal, will tend to replicate behavior that is\\nfollowed by positive reinforcement. The more successful we become, the\\nmore positive reinforcement we get. We can easily fall into the “superstition\\ntrap,” which is: “I behave this way, I am successful—therefore I must be\\nsuccessful because I behave this way.”\\nWrong!\\nWe are all successful because of the fact that we do many things right\\nand in spite of the fact that we are doing some things that actually work\\nagainst us.\\nMarshall wrote the book for a broad audience—not just leaders at the\\ntop of their organization’s pyramid or ladder, but those on the middle rungs\\nas well. What Got You Here is basically for anyone whose behavior gets in\\nthe way of where he or she ultimately wants to go.\\nSince publication, Marshall has traveled the world sharing and\\ndeveloping the ideas he put forth in the book. But in the course of doing so,\\nand especially while delivering a series of workshops for women based on\\nhis 2015 best seller Triggers, he came to recognize that some of the more\\naggressive and self-centered behaviors he identifies as problematic in What\\nGot You Here are less likely to be stumbling blocks for successful women\\nthan they are for men.\\nFor example, instead of claiming credit they don’t deserve, women are\\noften reluctant to claim their own achievements. Instead of always needing\\nto be right, women are more likely to be hobbled by the desire to please or\\nthe need to be perfect. Instead of refusing to express regret, women often\\ncan’t stop apologizing, even for things that are not their fault.\\nEveryone has self-limiting behaviors, for the simple reason that we are\\nall human. But although men and women do sometimes share the same\\nundermining habits, they frequently do not. Women often face very\\ndifferent challenges as they seek to advance in their careers and operate on\\na bigger playing field, so it makes sense that women would adapt their\\nbehavior in different ways. And women are', ' their\\nbehavior in different ways. And women are often rewarded differently, as\\nwe will show in the next chapter. These differences shape their expectations\\n']\n"
     ]
    }
   ],
   "source": [
    "docs = text_splitter.split_text(sample)\n",
    "print(len(docs))\n",
    "print(docs)"
   ]
  },
  {
   "cell_type": "code",
   "execution_count": 114,
   "metadata": {},
   "outputs": [
    {
     "name": "stdout",
     "output_type": "stream",
     "text": [
      "2239\n",
      "157\n"
     ]
    }
   ],
   "source": [
    "print(len(docs[0]))\n",
    "print(len(docs[1]))"
   ]
  }
 ],
 "metadata": {
  "kernelspec": {
   "display_name": "pdfrag",
   "language": "python",
   "name": "python3"
  },
  "language_info": {
   "codemirror_mode": {
    "name": "ipython",
    "version": 3
   },
   "file_extension": ".py",
   "mimetype": "text/x-python",
   "name": "python",
   "nbconvert_exporter": "python",
   "pygments_lexer": "ipython3",
   "version": "3.11.7"
  }
 },
 "nbformat": 4,
 "nbformat_minor": 2
}
