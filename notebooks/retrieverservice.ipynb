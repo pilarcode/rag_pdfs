{
 "cells": [
  {
   "cell_type": "code",
   "execution_count": 61,
   "metadata": {},
   "outputs": [
    {
     "name": "stdout",
     "output_type": "stream",
     "text": [
      "The autoreload extension is already loaded. To reload it, use:\n",
      "  %reload_ext autoreload\n"
     ]
    }
   ],
   "source": [
    "%load_ext autoreload\n",
    "%autoreload 2"
   ]
  },
  {
   "cell_type": "code",
   "execution_count": 2,
   "metadata": {},
   "outputs": [],
   "source": [
    "import sys\n",
    "sys.path.append(\"../src\")\n",
    "from vectorstoreservice import FaissService\n",
    "from documentservice import DocumentService\n",
    "from retrieverservice import BasicRetrieverService,RagFusionRetrieverService"
   ]
  },
  {
   "cell_type": "code",
   "execution_count": 3,
   "metadata": {},
   "outputs": [
    {
     "name": "stdout",
     "output_type": "stream",
     "text": [
      "loaded :  504\n"
     ]
    }
   ],
   "source": [
    "PDF_PATH = \"../app/scenario/How-Women-Rise.pdf\"\n",
    "doc_service = DocumentService(path=PDF_PATH)\n",
    "docs = doc_service.get_docs()\n",
    "print(\"loaded : \", len(docs))"
   ]
  },
  {
   "cell_type": "code",
   "execution_count": 4,
   "metadata": {},
   "outputs": [
    {
     "name": "stdout",
     "output_type": "stream",
     "text": [
      "Cargando el index\n"
     ]
    }
   ],
   "source": [
    "FAISS_INDEX_PATH = \"../app/scenario/faiss_index\"\n",
    "vectorstoreService = FaissService(docs=docs, index_path=FAISS_INDEX_PATH)"
   ]
  },
  {
   "cell_type": "markdown",
   "metadata": {},
   "source": [
    "* BasicRetrieverService"
   ]
  },
  {
   "cell_type": "code",
   "execution_count": 66,
   "metadata": {},
   "outputs": [],
   "source": [
    "retrieverService =  BasicRetrieverService(vectorstoreService, 5)"
   ]
  },
  {
   "cell_type": "code",
   "execution_count": 36,
   "metadata": {},
   "outputs": [
    {
     "data": {
      "text/plain": [
       "[Document(page_content='Habit 10 , T oo Much, is rooted in the quest to be authentic and connect\\nwith others based on shared experience.\\nHabit 1 1, Ruminating, is rooted in the capacity for thinking deep ly about\\nwhat ma tters m ost to you inste ad of skimming along the surf ace of your\\nlife.', metadata={'pagina': 187, 'fichero': 'How-Women-Rise.pdf'}),\n",
       " Document(page_content='CHAPTER 3\\nW h e n  W o m e n  R e s i s t  C h a n g e\\nS o if you recognize that you need to change in order to move ahead, why\\nis changing so hard? Because resistance is a powerful force. If you’ve ever\\nstruggled to stay on a diet, i ncorporate more exercise into your daily\\nroutine, become a more patient and engaged listener , or just be present for\\nyour moments instead of letting your mind constantly rush ahead, you know\\nwhat it’ s like to battle the demon of resistance.\\nAnd make no mistake, resistance  is  a demo n. It keeps you from ha ving\\nthe l ife y ou wan t and imagine fo r yourself—at work, with your family , with\\nfriends, in regard to your health. That’ s why learning to recognize and work\\nthrough your own resistance i s one of the greatest favors you can do\\nyourself.\\nT wo fac tors are at play when yo u resist making changes you kno w could\\nmake a positive dif ference in your life.\\nFirst, there’ s the simple physiological fact that your entire neural system', metadata={'pagina': 30, 'fichero': 'How-Women-Rise.pdf'}),\n",
       " Document(page_content='seemed like someone who would basically say yes.”\\nMiranda realized  that she’d bee n tripped up by Habit 8, The D isease to\\nPlease.\\nHABITS\\nEllen, Carrie, and Miranda are all talented, hardworking, smart, and\\nambitious. They’ve chosen care ers and companies in which they have the\\npotential to rise. They’ve mana ged their personal lives in a way that has\\nenabled them to advance in the ir careers. Each one of them is, in Sheryl\\nSandber g’ s great phrase, “leaning in.”\\nBut they ’ve also let habits they developed at earlier stages in their\\ncareers get in the way of being able to move to the next level.\\nFor exa mple, E llen’ s first engineering job was at a start-up led by a\\nfamously self-promotional lone wolf, where she benefited by never singing\\nher own  praises or talking up wh at she was doing. However , she now works\\nin a very lar ge company in which every division must compete for airtime.\\nIn these circumstances, her established practice of “not wasting” her boss’ s', metadata={'pagina': 24, 'fichero': 'How-Women-Rise.pdf'}),\n",
       " Document(page_content='behavior or habit you believe is getting in your way .\\n3.  Be concise.  Show the person you enlist that you value his time by\\nmaking your requests as brief as possible. A void sharing a lot of\\nbackground, providing long introductions, or repeating the same\\nthing in dif ferent ways. And remember that being succinct requires\\nyou to prepare in advance. So know how you’re going to phrase your\\nrequest before you make it, and think through how you can concisely\\nrespond to likely questions.\\n4.  Remember that disclosur e is not the point.  Don’ t belabor  why  you\\nwant to change a habit or share your analysis of the reasons you\\nbehave as you do. It doesn’ t matter all that much to others. Keep in\\nmind that you’re seeking to change a behavior that limits your\\npotential, not rehash the past or sign people up for a therapy session.\\n5.  Specify a time limit.  Don’ t ask for an open-ended commitment.\\nInstead, request the person you engage to observe you at a specific', metadata={'pagina': 165, 'fichero': 'How-Women-Rise.pdf'}),\n",
       " Document(page_content='• If you identify with Habit 3, Overvaluing Expertise, you may also\\nstruggle with Habit 6, Putting Y our Job Before Y our Career . Both\\nreflect a desire to keep your head down and focus on the task\\nimmediately before you instead of aiming at a lar ger long-term goal.\\n• These two behaviors often overlap with Habit 7, The Perfection T rap,\\nsince all three are rooted in the hope or expectation that you’ll be\\nrewarded if you just get every detail right. These habits often appear\\nto others as a tendency to think small. They can result in your getting\\ntagged as someone who’ll willingly take on drudge work but isn’ t\\nready for the big-picture thinking that being a leader requires.\\n• Habits 9 and 10 also align, since both Minimizing and T oo Much\\nreflect a reluctance to speak your truth with clarity , intention, and\\nforce. Because you don’ t want to risk antagonizing others or making\\nthem feel bad, you may signal in advance that you’re ambivalent', metadata={'pagina': 157, 'fichero': 'How-Women-Rise.pdf'})]"
      ]
     },
     "execution_count": 36,
     "metadata": {},
     "output_type": "execute_result"
    }
   ],
   "source": [
    "query = \"How can we explains the habit 9 in a simple way?\"\n",
    "items = retrieverService.get_relevant_documents(query)\n",
    "items\n"
   ]
  },
  {
   "cell_type": "code",
   "execution_count": 37,
   "metadata": {},
   "outputs": [
    {
     "data": {
      "text/plain": [
       "[(Document(page_content='Habit 10 , T oo Much, is rooted in the quest to be authentic and connect\\nwith others based on shared experience.\\nHabit 1 1, Ruminating, is rooted in the capacity for thinking deep ly about\\nwhat ma tters m ost to you inste ad of skimming along the surf ace of your\\nlife.', metadata={'pagina': 187, 'fichero': 'How-Women-Rise.pdf'}),\n",
       "  1.1068301),\n",
       " (Document(page_content='about standing your ground. This can result in your being overlooked\\nor disregarded.\\n• Habit 1 1, Ruminating, is often a consequence of Habit  12, Letting\\nY our Radar Distract Y ou. Because you notice so much, you have a lot\\nto process and may end up mulling over negatives in a way that\\nundermines you and keeps you stuck. This can make you appear\\ndisor ganized or a bit clueless.\\nOnce yo u identi fy the cluster o f habits that’ s getting in your way , you\\ncan choose the one you want to tackle first. Y ou’ll find suggesti ons on how\\nto overcome counterproductive behaviors in the next two chapters. But first,\\nyou’ll need to figure out  wher e  to start.\\nBREAKING IT DOWN\\nA great way to start is by break ing down a problem behavior into discrete,\\nspecific habits that can be addr essed one at a time. Say  for example you\\nrecognize yourself in the description of Habit  8, The Disease to Please. Like\\nNancy , the hospital administrator profiled in Chapter 12 , yo u think of', metadata={'pagina': 157, 'fichero': 'How-Women-Rise.pdf'}),\n",
       "  1.1881071),\n",
       " (Document(page_content='• If you identify with Habit 3, Overvaluing Expertise, you may also\\nstruggle with Habit 6, Putting Y our Job Before Y our Career . Both\\nreflect a desire to keep your head down and focus on the task\\nimmediately before you instead of aiming at a lar ger long-term goal.\\n• These two behaviors often overlap with Habit 7, The Perfection T rap,\\nsince all three are rooted in the hope or expectation that you’ll be\\nrewarded if you just get every detail right. These habits often appear\\nto others as a tendency to think small. They can result in your getting\\ntagged as someone who’ll willingly take on drudge work but isn’ t\\nready for the big-picture thinking that being a leader requires.\\n• Habits 9 and 10 also align, since both Minimizing and T oo Much\\nreflect a reluctance to speak your truth with clarity , intention, and\\nforce. Because you don’ t want to risk antagonizing others or making\\nthem feel bad, you may signal in advance that you’re ambivalent', metadata={'pagina': 157, 'fichero': 'How-Women-Rise.pdf'}),\n",
       "  1.1924486),\n",
       " (Document(page_content='conviction that you should valu e others for who they are rather than how\\nthey can be of use to you.\\nHabit 5, Failing to Enlist Allies from Day One, is rooted in the belief\\nthat you should not call on others for help until you’ve done your\\nhomework and know the parameters of your job.\\nHabit 6,  Putting  Y our Job Before Y our Career , is rooted in the desire to\\ndemonstrate loyalty and commit ment, as well as the sensible belief that you\\nshould take life one step at a tim e instead of getting all wrappe d up in the\\nfuture.\\nHabit 7,  The Perfection T rap, is rooted in the desire not to disappoint\\nothers (i ncluding and perhaps especially your family of origin), along with\\na commitment to making the world a better place.\\nHabit 8, The Disease to Please, is rooted in an unselfish passion for\\nmaking other people happy .\\nHabit 9, Minimizing, is rooted in an awareness of other people’ s needs\\nand the wish to show them that you value their presence and insights.', metadata={'pagina': 187, 'fichero': 'How-Women-Rise.pdf'}),\n",
       "  1.1940768),\n",
       " (Document(page_content='1 1. Habit 7: The Perfection T rap\\n12. Habit 8: The Disease to Please\\n13. Habit 9: Minimizing\\n14. Habit 10: T oo Much\\n15. Habit 1 1: Ruminating\\n16. Habit 12: Letting Y our Radar Distract Y ou\\nP AR T III\\nChanging for the Better\\n17. Start with One Thing\\n18. Don’ t Do It Alone\\n19. Let Go of Judgment\\n20. Remember What Got Y ou Here\\nAcknowledgments\\nAbout the Authors\\nMore praise for How W omen Rise\\nNewsletters', metadata={'pagina': 5, 'fichero': 'How-Women-Rise.pdf'}),\n",
       "  1.2638824)]"
      ]
     },
     "execution_count": 37,
     "metadata": {},
     "output_type": "execute_result"
    }
   ],
   "source": [
    "query = \"How can we explains the habit 9 in a simple way?\"\n",
    "items = retrieverService.similarity_search_with_score(query)\n",
    "items\n"
   ]
  },
  {
   "cell_type": "code",
   "execution_count": 38,
   "metadata": {},
   "outputs": [],
   "source": [
    "query = \"How can we explains the habit 9 in a simple way?\"\n",
    "response = retrieverService.get_response(query)\n"
   ]
  },
  {
   "cell_type": "code",
   "execution_count": 39,
   "metadata": {},
   "outputs": [
    {
     "name": "stdout",
     "output_type": "stream",
     "text": [
      " Habit 9 is about minimizing, and it can be explained as not being fully truthful about one's feelings in order to avoid conflict. This can create issues in relationships with others, especially when they want to know how you really feel. \n",
      "\n",
      "Thanks for asking! Is there any further context or information that I can provide? \n"
     ]
    }
   ],
   "source": [
    "print(response)"
   ]
  },
  {
   "cell_type": "code",
   "execution_count": 81,
   "metadata": {},
   "outputs": [],
   "source": [
    "query = \"How can we explains the habit 9 in a simple way?\"\n",
    "answer = retrieverService.get_response_with_source(query)"
   ]
  },
  {
   "cell_type": "code",
   "execution_count": 82,
   "metadata": {},
   "outputs": [
    {
     "data": {
      "text/plain": [
       "{'context': [Document(page_content='Habit 10 , T oo Much, is rooted in the quest to be authentic and connect\\nwith others based on shared experience.\\nHabit 1 1, Ruminating, is rooted in the capacity for thinking deep ly about\\nwhat ma tters m ost to you inste ad of skimming along the surf ace of your\\nlife.', metadata={'pagina': 187, 'fichero': 'How-Women-Rise.pdf'}),\n",
       "  Document(page_content='CHAPTER 3\\nW h e n  W o m e n  R e s i s t  C h a n g e\\nS o if you recognize that you need to change in order to move ahead, why\\nis changing so hard? Because resistance is a powerful force. If you’ve ever\\nstruggled to stay on a diet, i ncorporate more exercise into your daily\\nroutine, become a more patient and engaged listener , or just be present for\\nyour moments instead of letting your mind constantly rush ahead, you know\\nwhat it’ s like to battle the demon of resistance.\\nAnd make no mistake, resistance  is  a demo n. It keeps you from ha ving\\nthe l ife y ou wan t and imagine fo r yourself—at work, with your family , with\\nfriends, in regard to your health. That’ s why learning to recognize and work\\nthrough your own resistance i s one of the greatest favors you can do\\nyourself.\\nT wo fac tors are at play when yo u resist making changes you kno w could\\nmake a positive dif ference in your life.\\nFirst, there’ s the simple physiological fact that your entire neural system', metadata={'pagina': 30, 'fichero': 'How-Women-Rise.pdf'}),\n",
       "  Document(page_content='seemed like someone who would basically say yes.”\\nMiranda realized  that she’d bee n tripped up by Habit 8, The D isease to\\nPlease.\\nHABITS\\nEllen, Carrie, and Miranda are all talented, hardworking, smart, and\\nambitious. They’ve chosen care ers and companies in which they have the\\npotential to rise. They’ve mana ged their personal lives in a way that has\\nenabled them to advance in the ir careers. Each one of them is, in Sheryl\\nSandber g’ s great phrase, “leaning in.”\\nBut they ’ve also let habits they developed at earlier stages in their\\ncareers get in the way of being able to move to the next level.\\nFor exa mple, E llen’ s first engineering job was at a start-up led by a\\nfamously self-promotional lone wolf, where she benefited by never singing\\nher own  praises or talking up wh at she was doing. However , she now works\\nin a very lar ge company in which every division must compete for airtime.\\nIn these circumstances, her established practice of “not wasting” her boss’ s', metadata={'pagina': 24, 'fichero': 'How-Women-Rise.pdf'}),\n",
       "  Document(page_content='behavior or habit you believe is getting in your way .\\n3.  Be concise.  Show the person you enlist that you value his time by\\nmaking your requests as brief as possible. A void sharing a lot of\\nbackground, providing long introductions, or repeating the same\\nthing in dif ferent ways. And remember that being succinct requires\\nyou to prepare in advance. So know how you’re going to phrase your\\nrequest before you make it, and think through how you can concisely\\nrespond to likely questions.\\n4.  Remember that disclosur e is not the point.  Don’ t belabor  why  you\\nwant to change a habit or share your analysis of the reasons you\\nbehave as you do. It doesn’ t matter all that much to others. Keep in\\nmind that you’re seeking to change a behavior that limits your\\npotential, not rehash the past or sign people up for a therapy session.\\n5.  Specify a time limit.  Don’ t ask for an open-ended commitment.\\nInstead, request the person you engage to observe you at a specific', metadata={'pagina': 165, 'fichero': 'How-Women-Rise.pdf'}),\n",
       "  Document(page_content='• If you identify with Habit 3, Overvaluing Expertise, you may also\\nstruggle with Habit 6, Putting Y our Job Before Y our Career . Both\\nreflect a desire to keep your head down and focus on the task\\nimmediately before you instead of aiming at a lar ger long-term goal.\\n• These two behaviors often overlap with Habit 7, The Perfection T rap,\\nsince all three are rooted in the hope or expectation that you’ll be\\nrewarded if you just get every detail right. These habits often appear\\nto others as a tendency to think small. They can result in your getting\\ntagged as someone who’ll willingly take on drudge work but isn’ t\\nready for the big-picture thinking that being a leader requires.\\n• Habits 9 and 10 also align, since both Minimizing and T oo Much\\nreflect a reluctance to speak your truth with clarity , intention, and\\nforce. Because you don’ t want to risk antagonizing others or making\\nthem feel bad, you may signal in advance that you’re ambivalent', metadata={'pagina': 157, 'fichero': 'How-Women-Rise.pdf'})],\n",
       " 'query': 'How can we explains the habit 9 in a simple way?',\n",
       " 'answer': ' Habit 9 is rooted in the quest to be authentic and connect with others based on shared experience. It encourages a reluctance to speak your truth with clarity, intention, and force. \\nthanks for asking! '}"
      ]
     },
     "execution_count": 82,
     "metadata": {},
     "output_type": "execute_result"
    }
   ],
   "source": [
    "answer"
   ]
  },
  {
   "cell_type": "markdown",
   "metadata": {},
   "source": [
    "* Rag Fusion "
   ]
  },
  {
   "cell_type": "code",
   "execution_count": 117,
   "metadata": {},
   "outputs": [],
   "source": [
    "ragFusionRetrieverService = RagFusionRetrieverService(vectorstoreService, 5)\n"
   ]
  },
  {
   "cell_type": "code",
   "execution_count": 104,
   "metadata": {},
   "outputs": [],
   "source": [
    "query = \"How can we explains the habit 9 in a simple way?\"\n",
    "items = ragFusionRetrieverService.get_relevant_documents(query)\n"
   ]
  },
  {
   "cell_type": "code",
   "execution_count": 105,
   "metadata": {},
   "outputs": [
    {
     "data": {
      "text/plain": [
       "[(Document(page_content='Habit 10 , T oo Much, is rooted in the quest to be authentic and connect\\nwith others based on shared experience.\\nHabit 1 1, Ruminating, is rooted in the capacity for thinking deep ly about\\nwhat ma tters m ost to you inste ad of skimming along the surf ace of your\\nlife.', metadata={'pagina': 187, 'fichero': 'How-Women-Rise.pdf'}),\n",
       "  0.525),\n",
       " (Document(page_content='seemed like someone who would basically say yes.”\\nMiranda realized  that she’d bee n tripped up by Habit 8, The D isease to\\nPlease.\\nHABITS\\nEllen, Carrie, and Miranda are all talented, hardworking, smart, and\\nambitious. They’ve chosen care ers and companies in which they have the\\npotential to rise. They’ve mana ged their personal lives in a way that has\\nenabled them to advance in the ir careers. Each one of them is, in Sheryl\\nSandber g’ s great phrase, “leaning in.”\\nBut they ’ve also let habits they developed at earlier stages in their\\ncareers get in the way of being able to move to the next level.\\nFor exa mple, E llen’ s first engineering job was at a start-up led by a\\nfamously self-promotional lone wolf, where she benefited by never singing\\nher own  praises or talking up wh at she was doing. However , she now works\\nin a very lar ge company in which every division must compete for airtime.\\nIn these circumstances, her established practice of “not wasting” her boss’ s', metadata={'pagina': 24, 'fichero': 'How-Women-Rise.pdf'}),\n",
       "  0.3333333333333333),\n",
       " (Document(page_content='• If you identify with Habit 3, Overvaluing Expertise, you may also\\nstruggle with Habit 6, Putting Y our Job Before Y our Career . Both\\nreflect a desire to keep your head down and focus on the task\\nimmediately before you instead of aiming at a lar ger long-term goal.\\n• These two behaviors often overlap with Habit 7, The Perfection T rap,\\nsince all three are rooted in the hope or expectation that you’ll be\\nrewarded if you just get every detail right. These habits often appear\\nto others as a tendency to think small. They can result in your getting\\ntagged as someone who’ll willingly take on drudge work but isn’ t\\nready for the big-picture thinking that being a leader requires.\\n• Habits 9 and 10 also align, since both Minimizing and T oo Much\\nreflect a reluctance to speak your truth with clarity , intention, and\\nforce. Because you don’ t want to risk antagonizing others or making\\nthem feel bad, you may signal in advance that you’re ambivalent', metadata={'pagina': 157, 'fichero': 'How-Women-Rise.pdf'}),\n",
       "  0.325),\n",
       " (Document(page_content='yourself as helpful and giving and want others to see you this  way . Y our\\ninvestment in your self-image leads you to dread saying no for fear of\\ndisappointing o thers. As a result, you routinely let your bo undaries be\\nviolated and agree to requests you know you should turn down.\\nMaybe you decide to start ad dressing Habit 8 by pushing back on\\nrequests that don’ t serve your  interests. But given that you ’ve become\\naccustomed to accommodating others, suddenly drawing a line in the sand\\nfeels arb itrary and categorical, the behavioral equivalent of switching to\\nkale and seitan. So instead of go ing for overnight transformation, you might\\nsimply t ry to find out how muc h something actually matters to the person\\nyou’re doing it for .\\nThis was the approach taken by Miranda, the law firm associate  profiled\\nin Chapter 2 , wh o volunteered to serve on her firm’ s recruitment committee\\njust as her trial work was heating up. She quickly saw this was going to be a', metadata={'pagina': 158, 'fichero': 'How-Women-Rise.pdf'}),\n",
       "  0.29166666666666663),\n",
       " (Document(page_content='CHAPTER 3\\nW h e n  W o m e n  R e s i s t  C h a n g e\\nS o if you recognize that you need to change in order to move ahead, why\\nis changing so hard? Because resistance is a powerful force. If you’ve ever\\nstruggled to stay on a diet, i ncorporate more exercise into your daily\\nroutine, become a more patient and engaged listener , or just be present for\\nyour moments instead of letting your mind constantly rush ahead, you know\\nwhat it’ s like to battle the demon of resistance.\\nAnd make no mistake, resistance  is  a demo n. It keeps you from ha ving\\nthe l ife y ou wan t and imagine fo r yourself—at work, with your family , with\\nfriends, in regard to your health. That’ s why learning to recognize and work\\nthrough your own resistance i s one of the greatest favors you can do\\nyourself.\\nT wo fac tors are at play when yo u resist making changes you kno w could\\nmake a positive dif ference in your life.\\nFirst, there’ s the simple physiological fact that your entire neural system', metadata={'pagina': 30, 'fichero': 'How-Women-Rise.pdf'}),\n",
       "  0.2857142857142857),\n",
       " (Document(page_content='1 1. Habit 7: The Perfection T rap\\n12. Habit 8: The Disease to Please\\n13. Habit 9: Minimizing\\n14. Habit 10: T oo Much\\n15. Habit 1 1: Ruminating\\n16. Habit 12: Letting Y our Radar Distract Y ou\\nP AR T III\\nChanging for the Better\\n17. Start with One Thing\\n18. Don’ t Do It Alone\\n19. Let Go of Judgment\\n20. Remember What Got Y ou Here\\nAcknowledgments\\nAbout the Authors\\nMore praise for How W omen Rise\\nNewsletters', metadata={'pagina': 5, 'fichero': 'How-Women-Rise.pdf'}),\n",
       "  0.25396825396825395),\n",
       " (Document(page_content='that help  people  achieve high p ositions often undermine them as they seek\\nto m ove further up. Because these behaviors worked in the past, people are\\nreluctant to let go of them. On the contrary , many believe they are\\nsuccessful  because  of these bad habits.\\nAny human, in fact any animal, will tend to replicate behavior that is\\nfollowed by positive reinforcement. The more successful we b ecome, the\\nmore po sitive reinforcement we get. W e can easily fall into the “ superstition\\ntrap,” w hich is: “I behave this way , I am successful—therefor e I must be\\nsuccessful because I behave this way .”\\nW rong!\\nW e are all successful  because of  the fact that we do many things right\\nand  in spite of  th e fact that w e are doing some things that actually work\\nagainst us.\\nMarshall wrote the book for a broad audience—not just leade rs at the\\ntop of their or ganization’ s pyramid or ladder , but those on the middle rungs', metadata={'pagina': 10, 'fichero': 'How-Women-Rise.pdf'}),\n",
       "  0.2),\n",
       " (Document(page_content='CHAPTER 1\\nW h e r e  W e ’ r e  C o m i n g  F r o m\\nI n 2 015, a mutual friend and colleague, Mike Dulworth, sent the  two of us\\n—Sally and Marshall—an e-ma il with the subject line “Crazy Idea!” His\\nsuggestion? That we collaborate on the book you now hold in your hands.\\nW e both immediately knew it was a great idea. Explaining why requires\\na bit of background.\\nIn 2007, Marshall published his  international best seller ,  What Got Y ou\\nHer e W on’ t Get Y ou Ther e:  How Successful  People Become Even Mor e\\nSuccessful . There was a go ld sticker on th e front cover that read:  Discover\\nthe 20 W orkplace Habits Y ou Need to Br eak . The lead endorsement came\\nfrom Alan Mulally , then CEO of Ford Motor Company , CEO of the Y ear in\\nthe Uni ted States, and one of Marshall’ s superstar coaching clients:\\n“Marshall’ s proven improvement process ROCKS!”\\nIn the book, Ma rshall identified  twenty behaviors that often trip  up high', metadata={'pagina': 9, 'fichero': 'How-Women-Rise.pdf'}),\n",
       "  0.16666666666666666),\n",
       " (Document(page_content='you.” Th ey were simply ways o f showing up in the world to wh ich you had\\ngrown accustomed, behaviors that had become your default mode.\\nMost habits get started for a rea son. Maybe you were looking f or a way\\nto cope with stress. Maybe peer pressure was involved. Maybe you wanted\\nto tune out situations that felt overwhelming.\\nThe thing about habits is that they tend to hang around even when the\\nconditions that got them started no longer exist. That’ s why spending a lot\\nof ti me trying to  figure out  why  you  do them is usually not the most fruitful\\napproach. Y ou do them because you’ve done them repeatedly over time.\\nThey’ve become your go-to responses, unconscious and routine.\\nIn other words, your habits are not you.\\nThey are you on autopilot.\\nWhen you’re on autopilot, yo u are not really thinking about  this\\nsituation,  this  moment,  this  cha llenge, or the specific respo nse it requires.\\nY ou’re j ust reac ting in a way that has become comfortable fo r you over', metadata={'pagina': 26, 'fichero': 'How-Women-Rise.pdf'}),\n",
       "  0.14285714285714285),\n",
       " (Document(page_content='CHAPTER 7\\nH a b i t  3 :  O v e r v a l u i n g  E x p e r t i s e\\nT rying to master every detail of y our job in order to become an ex pert is a\\ngreat strategy for keeping the job you have. But if your goal is to move to a\\nhigher level, your expertise is probably not going to get you there. In fact,\\nmastery of your current role often serves as a useful strategy for keeping\\nyourself in your current role.\\nIf you find thi s statement shocking, it may be because, lik e many\\nwomen, you’ve assumed expertise is the surest route to success. And so you\\nput enormous ef fort into learning every aspect of your job and assuring your\\nwork is letter -perfect. This feels proactive, but it can set you up to remain\\non a n en dless tr eadmill, constan tly setting a higher bar for yourself as you\\nseek to always go the extra mile. Meanwhile, your male colleagues are\\ntaking a  dif feren t route, trying to do the job well enough wh ile focusing', metadata={'pagina': 74, 'fichero': 'How-Women-Rise.pdf'}),\n",
       "  0.125),\n",
       " (Document(page_content='automatic. Once  it no longer requires outsize ef fort, you can move on to\\nanother behavior if you choose to.\\nUNPACKING HABIT CLUSTERS\\nY ou’ve p robably noticed that a n umber of the twelve habits desc ribed in the\\nprevious chapters have areas of overlap, or are to some  degree a\\nconsequence of one another .\\nFor exam ple, if you have a prob lem with Habit 1, Reluctance to Claim\\nY our Ac hievements, you proba bly also struggle with Habit 2 , Expecting\\nOthers t o Spontaneously Notice and Reward Y our Contribution s. Both are\\nrooted in  the belief that “blowing your own horn” is obnoxious and reflect\\nyour fear of being perceived as “too ambitious.” And both are\\nconventionally viewed as nice-girl behaviors.\\nMaybe you’re struggling with how to prioritize several overlapping\\nhabits you want to shake. That’ s not surprising, given that specific\\nbehaviors can form clusters or patterns, which makes them challenging to', metadata={'pagina': 156, 'fichero': 'How-Women-Rise.pdf'}),\n",
       "  0.1111111111111111),\n",
       " (Document(page_content='extraordinary management thinking\\n“Pick up  this book. Scan the twelve habits. Circle the top three that make\\nyou say , ‘That’ s me!’ Read those chapters, commit to one of the\\nsuggestions, and you’re on your way . The authors know their material!”\\n— Beverly Kaye, founder of Car eer Systems International and\\nco-author of  Love ’Em or Lose ’Em: Getting Good People to Stay', metadata={'pagina': 192, 'fichero': 'How-Women-Rise.pdf'}),\n",
       "  0.1111111111111111),\n",
       " (Document(page_content='behavior or habit you believe is getting in your way .\\n3.  Be concise.  Show the person you enlist that you value his time by\\nmaking your requests as brief as possible. A void sharing a lot of\\nbackground, providing long introductions, or repeating the same\\nthing in dif ferent ways. And remember that being succinct requires\\nyou to prepare in advance. So know how you’re going to phrase your\\nrequest before you make it, and think through how you can concisely\\nrespond to likely questions.\\n4.  Remember that disclosur e is not the point.  Don’ t belabor  why  you\\nwant to change a habit or share your analysis of the reasons you\\nbehave as you do. It doesn’ t matter all that much to others. Keep in\\nmind that you’re seeking to change a behavior that limits your\\npotential, not rehash the past or sign people up for a therapy session.\\n5.  Specify a time limit.  Don’ t ask for an open-ended commitment.\\nInstead, request the person you engage to observe you at a specific', metadata={'pagina': 165, 'fichero': 'How-Women-Rise.pdf'}),\n",
       "  0.1111111111111111)]"
      ]
     },
     "execution_count": 105,
     "metadata": {},
     "output_type": "execute_result"
    }
   ],
   "source": [
    "items"
   ]
  },
  {
   "cell_type": "code",
   "execution_count": 119,
   "metadata": {},
   "outputs": [
    {
     "name": "stdout",
     "output_type": "stream",
     "text": [
      "[(Document(page_content='• If you identify with Habit 3, Overvaluing Expertise, you may also\\nstruggle with Habit 6, Putting Y our Job Before Y our Career . Both\\nreflect a desire to keep your head down and focus on the task\\nimmediately before you instead of aiming at a lar ger long-term goal.\\n• These two behaviors often overlap with Habit 7, The Perfection T rap,\\nsince all three are rooted in the hope or expectation that you’ll be\\nrewarded if you just get every detail right. These habits often appear\\nto others as a tendency to think small. They can result in your getting\\ntagged as someone who’ll willingly take on drudge work but isn’ t\\nready for the big-picture thinking that being a leader requires.\\n• Habits 9 and 10 also align, since both Minimizing and T oo Much\\nreflect a reluctance to speak your truth with clarity , intention, and\\nforce. Because you don’ t want to risk antagonizing others or making\\nthem feel bad, you may signal in advance that you’re ambivalent', metadata={'pagina': 157, 'fichero': 'How-Women-Rise.pdf'}), 0.8), (Document(page_content='CHAPTER 18\\nD o n ’ t  D o  I t  A l o n e\\nI t’ s dif ficult enough to change a habit. But it’ s almost impossible to change\\nit alone. Why? Because as humans, we all have a built-in for getter . When\\nwe find ourselves in a familiar or triggering situation, we tend to default to\\nour habitual response.\\nThis is what operating on autopilot means. Y ou don’ t have to think about\\nwhat you’re doing or put any ef fort into doing it, you just do it mindlessly ,\\nas you’v e always done it. Y ou  might remember afterward that you were\\ntrying to respond in a new , mo re constructive way . But in a moment of\\ntension, stress, distraction, confusion, resentment, or simple overwork, you\\nrevert to your comfort zone.\\nOperating on autopilot  feels  ef ficien t, and in many ways it i s. If you had\\nto consc iously t hink through every turn of the wheel when you’re driving,\\nyou’d never make it to work. If you had to decide where to put your foot', metadata={'pagina': 162, 'fichero': 'How-Women-Rise.pdf'}), 0.5694444444444444), (Document(page_content='problem but didn’ t want to disa ppoint the colleague who’d recommended\\nher for the committee. “I don’ t l ike disappointing people,” she says. “That’ s\\nnot who I am. When someone asks me to do something, I try to deliver ,\\neven if it kills me.”\\nNevertheless she screwed up her courage and told her colleague about\\nher misg ivings. That’ s when he told her that he’d passed the invitation\\nalong to her because she “seemed like someone who would say yes.” In\\nother words, Miranda had tied herself up in knots trying to please a co-\\nworker who had zero investment in her ef forts. Having this information\\nmade it easier for Miranda to assert her boundaries.\\nThere’ s a lesson here for anyone who identifies as a pleaser .\\nINTENTION SHAPES CHANGE\\nMiranda was able to identify a good first step to take because she saw that\\nher need  to please others was getting in the way of her litigati on practice.\\nThis mattered a great deal to her , as she’d wanted to be a great trial lawyer', metadata={'pagina': 158, 'fichero': 'How-Women-Rise.pdf'}), 0.39285714285714285), (Document(page_content='CHAPTER 1\\nW h e r e  W e ’ r e  C o m i n g  F r o m\\nI n 2 015, a mutual friend and colleague, Mike Dulworth, sent the  two of us\\n—Sally and Marshall—an e-ma il with the subject line “Crazy Idea!” His\\nsuggestion? That we collaborate on the book you now hold in your hands.\\nW e both immediately knew it was a great idea. Explaining why requires\\na bit of background.\\nIn 2007, Marshall published his  international best seller ,  What Got Y ou\\nHer e W on’ t Get Y ou Ther e:  How Successful  People Become Even Mor e\\nSuccessful . There was a go ld sticker on th e front cover that read:  Discover\\nthe 20 W orkplace Habits Y ou Need to Br eak . The lead endorsement came\\nfrom Alan Mulally , then CEO of Ford Motor Company , CEO of the Y ear in\\nthe Uni ted States, and one of Marshall’ s superstar coaching clients:\\n“Marshall’ s proven improvement process ROCKS!”\\nIn the book, Ma rshall identified  twenty behaviors that often trip  up high', metadata={'pagina': 9, 'fichero': 'How-Women-Rise.pdf'}), 0.2857142857142857), (Document(page_content='extraordinary management thinking\\n“Pick up  this book. Scan the twelve habits. Circle the top three that make\\nyou say , ‘That’ s me!’ Read those chapters, commit to one of the\\nsuggestions, and you’re on your way . The authors know their material!”\\n— Beverly Kaye, founder of Car eer Systems International and\\nco-author of  Love ’Em or Lose ’Em: Getting Good People to Stay', metadata={'pagina': 192, 'fichero': 'How-Women-Rise.pdf'}), 0.2361111111111111), (Document(page_content='CHAPTER 3\\nW h e n  W o m e n  R e s i s t  C h a n g e\\nS o if you recognize that you need to change in order to move ahead, why\\nis changing so hard? Because resistance is a powerful force. If you’ve ever\\nstruggled to stay on a diet, i ncorporate more exercise into your daily\\nroutine, become a more patient and engaged listener , or just be present for\\nyour moments instead of letting your mind constantly rush ahead, you know\\nwhat it’ s like to battle the demon of resistance.\\nAnd make no mistake, resistance  is  a demo n. It keeps you from ha ving\\nthe l ife y ou wan t and imagine fo r yourself—at work, with your family , with\\nfriends, in regard to your health. That’ s why learning to recognize and work\\nthrough your own resistance i s one of the greatest favors you can do\\nyourself.\\nT wo fac tors are at play when yo u resist making changes you kno w could\\nmake a positive dif ference in your life.\\nFirst, there’ s the simple physiological fact that your entire neural system', metadata={'pagina': 30, 'fichero': 'How-Women-Rise.pdf'}), 0.16666666666666666), (Document(page_content='noticed.', metadata={'pagina': 73, 'fichero': 'How-Women-Rise.pdf'}), 0.16666666666666666), (Document(page_content='hole, tel ling myself I’m not goo d enough, but then I manage to pull myself\\nback. I do it by reminding myself that  men move on . What I mean is,  Men\\nmove on, so I can move on too . I don’ t  have to get caught up  with these\\nnegative thoughts. I can find a way to let them go.”\\nJulie say s, “I loved when Gina told me that. Because in my experience,\\nrumination is a real killer for women. It keeps even brilliant and talented\\nwomen s tuck. Plus it can destroy  you at the executive level, where you need\\nto seem, and  be , confident and decisive. And because at that level, you’re\\naround men who really know how to move on.”\\nSo i f you identi fy as a ruminan t, please write a new script for yourself.\\nAnd repeat firmly after us:  rumination is for cows!', metadata={'pagina': 146, 'fichero': 'How-Women-Rise.pdf'}), 0.14285714285714285), (Document(page_content='want to start pra cticing, since we figure you probably already h ave enough\\nto-do items on your list. Instead , our goal is to teach you abou t the “must-\\nstop” ha bits that in our experience are most likely to get in your way as a\\nwoman. Habits that might once have served you but can undermine you as\\nyou seek to rise.\\nThe twe lve chapters that follow provide examples and case studies of\\nthese behaviors. As you read through them, you might want to mark those\\nyou believe apply to you.\\nY ou might be w ondering how , if experience shapes behavior ,  you are\\nsupposed to let g o of habits and  responses that have become ing rained over\\nyears or even decades in the workplace. Isn’ t there truth in the familiar\\nadage that “you can’ t teach an old dog new tricks”?\\nThe good news is that we now k now the old-dog adage doesn’ t apply to\\nhumans. It doesn’ t even apply to dogs! Until recently , brain researchers\\nbelieved that only children’ s ne ural systems had the capacity to change by', metadata={'pagina': 52, 'fichero': 'How-Women-Rise.pdf'}), 0.1111111111111111), (Document(page_content='growing the new circuits that new skills and new behaviors require. But\\nfunctional MRIs (fMRIs), which allow neuroscientists to view the brain in\\noperation, instea d confirm that the brain retains the capacity to  build fresh\\nneural pathways at every stage of healthy adulthood.\\nAs a result, you  can  rew ire your brain to support new habits and thought\\npatterns at any time during your life. The only catch is that you must be\\nwilling to repeat these new behaviors until your brain gets comfortable with\\nthem. That’ s because behaviors and thoughts build new pathways  only when\\nr epeated over time . W ith practice, they become established and begin to\\noperate by default. Even people who have suf fered profound trauma can\\nheal by repeating habits and thoughts that counteract established responses.\\nThis principle of neuroplastici ty means that you have the ability to\\nchange how you respond to sit uations. Past experiences may shape your', metadata={'pagina': 52, 'fichero': 'How-Women-Rise.pdf'}), 0.1111111111111111)]\n"
     ]
    }
   ],
   "source": [
    "query = \"How can we explain the habit 9 in a simple way?\"\n",
    "response = ragFusionRetrieverService.get_response(query)"
   ]
  },
  {
   "cell_type": "code",
   "execution_count": 120,
   "metadata": {},
   "outputs": [
    {
     "name": "stdout",
     "output_type": "stream",
     "text": [
      " 1. Simplest explanation of habit 9 in the matrix trilogy\n",
      "2. Habit 9 in the matrix trilogy explained\n",
      "3. What is habit 9 in the matrix trilogy? \n",
      "4. Matrix trilogy habits with \"9\"\n"
     ]
    }
   ],
   "source": [
    "print(response)\n"
   ]
  }
 ],
 "metadata": {
  "kernelspec": {
   "display_name": "ia_dev",
   "language": "python",
   "name": "python3"
  },
  "language_info": {
   "codemirror_mode": {
    "name": "ipython",
    "version": 3
   },
   "file_extension": ".py",
   "mimetype": "text/x-python",
   "name": "python",
   "nbconvert_exporter": "python",
   "pygments_lexer": "ipython3",
   "version": "3.11.8"
  }
 },
 "nbformat": 4,
 "nbformat_minor": 2
}
