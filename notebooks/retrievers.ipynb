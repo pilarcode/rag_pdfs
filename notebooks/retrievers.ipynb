{
 "cells": [
  {
   "cell_type": "code",
   "execution_count": 51,
   "metadata": {},
   "outputs": [
    {
     "name": "stdout",
     "output_type": "stream",
     "text": [
      "The autoreload extension is already loaded. To reload it, use:\n",
      "  %reload_ext autoreload\n"
     ]
    }
   ],
   "source": [
    "%load_ext autoreload\n",
    "%autoreload 2"
   ]
  },
  {
   "cell_type": "code",
   "execution_count": 1,
   "metadata": {},
   "outputs": [],
   "source": [
    "import sys\n",
    "sys.path.append(\"../src\")\n",
    "\n",
    "from langchain_community.vectorstores import FAISS\n",
    "from langchain_community.embeddings import CohereEmbeddings"
   ]
  },
  {
   "cell_type": "code",
   "execution_count": 2,
   "metadata": {},
   "outputs": [],
   "source": [
    "def pretty_print_docs(docs):\n",
    "    print(\n",
    "        f\"\\n{'-' * 100}\\n\".join(\n",
    "            [f\"Document {i+1}:\\n\\n\" + d.page_content[0:100] for i, d in enumerate(docs)]\n",
    "        )\n",
    "    )"
   ]
  },
  {
   "cell_type": "markdown",
   "metadata": {},
   "source": [
    "* Load documents"
   ]
  },
  {
   "cell_type": "markdown",
   "metadata": {},
   "source": [
    "# Embedding function\n"
   ]
  },
  {
   "cell_type": "code",
   "execution_count": 3,
   "metadata": {},
   "outputs": [],
   "source": [
    "embeddings_function = CohereEmbeddings(model=\"embed-english-light-v3.0\")"
   ]
  },
  {
   "cell_type": "markdown",
   "metadata": {},
   "source": [
    "# Faiss Index"
   ]
  },
  {
   "cell_type": "code",
   "execution_count": 4,
   "metadata": {},
   "outputs": [
    {
     "name": "stdout",
     "output_type": "stream",
     "text": [
      "Docs in the vector store: 504\n"
     ]
    }
   ],
   "source": [
    "FAISS_INDEX_PATH = \"../app/scenario/faiss_index\"\n",
    "\n",
    "\n",
    "index_load =  FAISS.load_local(FAISS_INDEX_PATH, embeddings_function)\n",
    "print(\"Docs in the vector store:\", len(index_load.docstore._dict.items()))"
   ]
  },
  {
   "cell_type": "markdown",
   "metadata": {},
   "source": [
    "# Similarity Search with score\n"
   ]
  },
  {
   "cell_type": "code",
   "execution_count": 71,
   "metadata": {},
   "outputs": [],
   "source": [
    "query = \"How can we explains the habit 9 in a simple way?\" #habit9 : minimizing\n",
    "docs_and_scores = index_load.similarity_search_with_score(query, k=10)"
   ]
  },
  {
   "cell_type": "code",
   "execution_count": 72,
   "metadata": {},
   "outputs": [
    {
     "data": {
      "text/plain": [
       "[(Document(page_content='Habit 10 , T oo Much, is rooted in the quest to be authentic and connect\\nwith others based on shared experience.\\nHabit 1 1, Ruminating, is rooted in the capacity for thinking deep ly about\\nwhat ma tters m ost to you inste ad of skimming along the surf ace of your\\nlife.', metadata={'pagina': 187, 'fichero': 'How-Women-Rise.pdf'}),\n",
       "  1.1068301),\n",
       " (Document(page_content='about standing your ground. This can result in your being overlooked\\nor disregarded.\\n• Habit 1 1, Ruminating, is often a consequence of Habit  12, Letting\\nY our Radar Distract Y ou. Because you notice so much, you have a lot\\nto process and may end up mulling over negatives in a way that\\nundermines you and keeps you stuck. This can make you appear\\ndisor ganized or a bit clueless.\\nOnce yo u identi fy the cluster o f habits that’ s getting in your way , you\\ncan choose the one you want to tackle first. Y ou’ll find suggesti ons on how\\nto overcome counterproductive behaviors in the next two chapters. But first,\\nyou’ll need to figure out  wher e  to start.\\nBREAKING IT DOWN\\nA great way to start is by break ing down a problem behavior into discrete,\\nspecific habits that can be addr essed one at a time. Say  for example you\\nrecognize yourself in the description of Habit  8, The Disease to Please. Like\\nNancy , the hospital administrator profiled in Chapter 12 , yo u think of', metadata={'pagina': 157, 'fichero': 'How-Women-Rise.pdf'}),\n",
       "  1.1881071),\n",
       " (Document(page_content='• If you identify with Habit 3, Overvaluing Expertise, you may also\\nstruggle with Habit 6, Putting Y our Job Before Y our Career . Both\\nreflect a desire to keep your head down and focus on the task\\nimmediately before you instead of aiming at a lar ger long-term goal.\\n• These two behaviors often overlap with Habit 7, The Perfection T rap,\\nsince all three are rooted in the hope or expectation that you’ll be\\nrewarded if you just get every detail right. These habits often appear\\nto others as a tendency to think small. They can result in your getting\\ntagged as someone who’ll willingly take on drudge work but isn’ t\\nready for the big-picture thinking that being a leader requires.\\n• Habits 9 and 10 also align, since both Minimizing and T oo Much\\nreflect a reluctance to speak your truth with clarity , intention, and\\nforce. Because you don’ t want to risk antagonizing others or making\\nthem feel bad, you may signal in advance that you’re ambivalent', metadata={'pagina': 157, 'fichero': 'How-Women-Rise.pdf'}),\n",
       "  1.1924486),\n",
       " (Document(page_content='conviction that you should valu e others for who they are rather than how\\nthey can be of use to you.\\nHabit 5, Failing to Enlist Allies from Day One, is rooted in the belief\\nthat you should not call on others for help until you’ve done your\\nhomework and know the parameters of your job.\\nHabit 6,  Putting  Y our Job Before Y our Career , is rooted in the desire to\\ndemonstrate loyalty and commit ment, as well as the sensible belief that you\\nshould take life one step at a tim e instead of getting all wrappe d up in the\\nfuture.\\nHabit 7,  The Perfection T rap, is rooted in the desire not to disappoint\\nothers (i ncluding and perhaps especially your family of origin), along with\\na commitment to making the world a better place.\\nHabit 8, The Disease to Please, is rooted in an unselfish passion for\\nmaking other people happy .\\nHabit 9, Minimizing, is rooted in an awareness of other people’ s needs\\nand the wish to show them that you value their presence and insights.', metadata={'pagina': 187, 'fichero': 'How-Women-Rise.pdf'}),\n",
       "  1.1940768),\n",
       " (Document(page_content='1 1. Habit 7: The Perfection T rap\\n12. Habit 8: The Disease to Please\\n13. Habit 9: Minimizing\\n14. Habit 10: T oo Much\\n15. Habit 1 1: Ruminating\\n16. Habit 12: Letting Y our Radar Distract Y ou\\nP AR T III\\nChanging for the Better\\n17. Start with One Thing\\n18. Don’ t Do It Alone\\n19. Let Go of Judgment\\n20. Remember What Got Y ou Here\\nAcknowledgments\\nAbout the Authors\\nMore praise for How W omen Rise\\nNewsletters', metadata={'pagina': 5, 'fichero': 'How-Women-Rise.pdf'}),\n",
       "  1.2638824),\n",
       " (Document(page_content='on o r when you sense that people around you have conflictin g agendas.\\nMaybe you’ve also identified distraction as the root of your problem with\\nHabit 6, Putting Y our Job Befor e Y our Career , since being overw helmed by\\ndetails makes it dif ficult for yo u to develop long-term plans. Or you’ve\\nbecome aware that feeling distra cted by what others might think is playing\\ninto you r problem with Habit 8,  The Disease to Please. Or you believe that\\nif you could feel less distracted, you ’d be able to communicate more\\nconcisely , and so make progr ess on Habit 10. The point is, because\\ndistraction can have many cause s and manifestations, it’ s often a good place\\nto start tackling a whole range of more complex behaviors.\\nHaving made your decision, you approach a colleague or a friend and\\nsay something simple like: “I’m  trying to work on becoming less distracted\\nso I can  focus on one thing at a time. Do you have any ideas I could use?\\nAny practices that have worked for you?”', metadata={'pagina': 177, 'fichero': 'How-Women-Rise.pdf'}),\n",
       "  1.295815),\n",
       " (Document(page_content='CHAPTER 17\\nS t a r t  w i t h  O n e  T h i n g\\nS o no w you kno w which habit—or , let’ s be honest, habits—may be\\nplaying a role in keeping you stuck. Maybe they’re habits you’ve grown\\nattached to because they helped  you in the past. It’ s humbling t o admit that\\nwhat used to wo rk for you has stopped working, and a little sc ary because\\nfamiliar behaviors can feel like part of who you are. But it’ s inspiring to\\nconsider how much you might benefit from letting them go.\\nHere’ s t he tough part: making sustainable and lasting change requires\\nfocus. Not just momentary “Let’ s do it” enthusiasm, but the willingness to\\nmake a consistent ef fort over time. This is best achieved by identifying one\\nbehavior , or even one  part  of one b ehavior , and working o n it until you can\\nsee som e progress. That’ s because making small changes, and repeating\\nthem un til they become habitual, is more likely to yield long-term results\\nthan trying to become a brand-new you all at once.', metadata={'pagina': 155, 'fichero': 'How-Women-Rise.pdf'}),\n",
       "  1.297078),\n",
       " (Document(page_content='behavior or habit you believe is getting in your way .\\n3.  Be concise.  Show the person you enlist that you value his time by\\nmaking your requests as brief as possible. A void sharing a lot of\\nbackground, providing long introductions, or repeating the same\\nthing in dif ferent ways. And remember that being succinct requires\\nyou to prepare in advance. So know how you’re going to phrase your\\nrequest before you make it, and think through how you can concisely\\nrespond to likely questions.\\n4.  Remember that disclosur e is not the point.  Don’ t belabor  why  you\\nwant to change a habit or share your analysis of the reasons you\\nbehave as you do. It doesn’ t matter all that much to others. Keep in\\nmind that you’re seeking to change a behavior that limits your\\npotential, not rehash the past or sign people up for a therapy session.\\n5.  Specify a time limit.  Don’ t ask for an open-ended commitment.\\nInstead, request the person you engage to observe you at a specific', metadata={'pagina': 165, 'fichero': 'How-Women-Rise.pdf'}),\n",
       "  1.3101562),\n",
       " (Document(page_content='now . They may not get you there—that is, where you want to go. But you\\nwill ben efit from  maintaining a healthy respect for the gifts you bring and\\nfor w hat you ha ve achieved as y ou go about addressing behaviors that may\\nhave limited you in the past.\\nFor example, it’ s helpful to recognize that:\\nHabit 1, Reluctance to Claim Y our Achievements, is rooted in genuine\\nmodesty and a generous willing ness to acknowledge the achievements of\\nothers.\\nHabit 2,  Expecting Others to Spontaneously Notice and Reward Y our\\nContributions, is rooted in a reluctance to showboat or behave like a self-\\npromoting jerk—along with the perception that, because  you  notice what\\nothers contribute, other people will (or should) too.\\nHabit 3, Overvaluing Expertise, is rooted in a healthy respect for all the\\nskills your job requires and the willingness to work hard to master them.\\nHabit 4, Building Rather Than Leveraging Relationships, is rooted in the', metadata={'pagina': 187, 'fichero': 'How-Women-Rise.pdf'}),\n",
       "  1.3254421),\n",
       " (Document(page_content='automatic. Once  it no longer requires outsize ef fort, you can move on to\\nanother behavior if you choose to.\\nUNPACKING HABIT CLUSTERS\\nY ou’ve p robably noticed that a n umber of the twelve habits desc ribed in the\\nprevious chapters have areas of overlap, or are to some  degree a\\nconsequence of one another .\\nFor exam ple, if you have a prob lem with Habit 1, Reluctance to Claim\\nY our Ac hievements, you proba bly also struggle with Habit 2 , Expecting\\nOthers t o Spontaneously Notice and Reward Y our Contribution s. Both are\\nrooted in  the belief that “blowing your own horn” is obnoxious and reflect\\nyour fear of being perceived as “too ambitious.” And both are\\nconventionally viewed as nice-girl behaviors.\\nMaybe you’re struggling with how to prioritize several overlapping\\nhabits you want to shake. That’ s not surprising, given that specific\\nbehaviors can form clusters or patterns, which makes them challenging to', metadata={'pagina': 156, 'fichero': 'How-Women-Rise.pdf'}),\n",
       "  1.342981)]"
      ]
     },
     "execution_count": 72,
     "metadata": {},
     "output_type": "execute_result"
    }
   ],
   "source": [
    "docs_and_scores"
   ]
  },
  {
   "cell_type": "markdown",
   "metadata": {},
   "source": [
    "# Retriever"
   ]
  },
  {
   "cell_type": "code",
   "execution_count": 73,
   "metadata": {},
   "outputs": [],
   "source": [
    "retriever = index_load.as_retriever(search_kwargs={\"k\": 5})"
   ]
  },
  {
   "cell_type": "code",
   "execution_count": 92,
   "metadata": {},
   "outputs": [],
   "source": [
    "query = \"How can we explains the habit 9 in a simple way?\" #habit9 : minimizing\n",
    "items =retriever.get_relevant_documents(query)"
   ]
  },
  {
   "cell_type": "code",
   "execution_count": 93,
   "metadata": {},
   "outputs": [
    {
     "data": {
      "text/plain": [
       "[Document(page_content='Habit 10 , T oo Much, is rooted in the quest to be authentic and connect\\nwith others based on shared experience.\\nHabit 1 1, Ruminating, is rooted in the capacity for thinking deep ly about\\nwhat ma tters m ost to you inste ad of skimming along the surf ace of your\\nlife.', metadata={'pagina': 187, 'fichero': 'How-Women-Rise.pdf'}),\n",
       " Document(page_content='about standing your ground. This can result in your being overlooked\\nor disregarded.\\n• Habit 1 1, Ruminating, is often a consequence of Habit  12, Letting\\nY our Radar Distract Y ou. Because you notice so much, you have a lot\\nto process and may end up mulling over negatives in a way that\\nundermines you and keeps you stuck. This can make you appear\\ndisor ganized or a bit clueless.\\nOnce yo u identi fy the cluster o f habits that’ s getting in your way , you\\ncan choose the one you want to tackle first. Y ou’ll find suggesti ons on how\\nto overcome counterproductive behaviors in the next two chapters. But first,\\nyou’ll need to figure out  wher e  to start.\\nBREAKING IT DOWN\\nA great way to start is by break ing down a problem behavior into discrete,\\nspecific habits that can be addr essed one at a time. Say  for example you\\nrecognize yourself in the description of Habit  8, The Disease to Please. Like\\nNancy , the hospital administrator profiled in Chapter 12 , yo u think of', metadata={'pagina': 157, 'fichero': 'How-Women-Rise.pdf'}),\n",
       " Document(page_content='• If you identify with Habit 3, Overvaluing Expertise, you may also\\nstruggle with Habit 6, Putting Y our Job Before Y our Career . Both\\nreflect a desire to keep your head down and focus on the task\\nimmediately before you instead of aiming at a lar ger long-term goal.\\n• These two behaviors often overlap with Habit 7, The Perfection T rap,\\nsince all three are rooted in the hope or expectation that you’ll be\\nrewarded if you just get every detail right. These habits often appear\\nto others as a tendency to think small. They can result in your getting\\ntagged as someone who’ll willingly take on drudge work but isn’ t\\nready for the big-picture thinking that being a leader requires.\\n• Habits 9 and 10 also align, since both Minimizing and T oo Much\\nreflect a reluctance to speak your truth with clarity , intention, and\\nforce. Because you don’ t want to risk antagonizing others or making\\nthem feel bad, you may signal in advance that you’re ambivalent', metadata={'pagina': 157, 'fichero': 'How-Women-Rise.pdf'}),\n",
       " Document(page_content='conviction that you should valu e others for who they are rather than how\\nthey can be of use to you.\\nHabit 5, Failing to Enlist Allies from Day One, is rooted in the belief\\nthat you should not call on others for help until you’ve done your\\nhomework and know the parameters of your job.\\nHabit 6,  Putting  Y our Job Before Y our Career , is rooted in the desire to\\ndemonstrate loyalty and commit ment, as well as the sensible belief that you\\nshould take life one step at a tim e instead of getting all wrappe d up in the\\nfuture.\\nHabit 7,  The Perfection T rap, is rooted in the desire not to disappoint\\nothers (i ncluding and perhaps especially your family of origin), along with\\na commitment to making the world a better place.\\nHabit 8, The Disease to Please, is rooted in an unselfish passion for\\nmaking other people happy .\\nHabit 9, Minimizing, is rooted in an awareness of other people’ s needs\\nand the wish to show them that you value their presence and insights.', metadata={'pagina': 187, 'fichero': 'How-Women-Rise.pdf'}),\n",
       " Document(page_content='1 1. Habit 7: The Perfection T rap\\n12. Habit 8: The Disease to Please\\n13. Habit 9: Minimizing\\n14. Habit 10: T oo Much\\n15. Habit 1 1: Ruminating\\n16. Habit 12: Letting Y our Radar Distract Y ou\\nP AR T III\\nChanging for the Better\\n17. Start with One Thing\\n18. Don’ t Do It Alone\\n19. Let Go of Judgment\\n20. Remember What Got Y ou Here\\nAcknowledgments\\nAbout the Authors\\nMore praise for How W omen Rise\\nNewsletters', metadata={'pagina': 5, 'fichero': 'How-Women-Rise.pdf'})]"
      ]
     },
     "execution_count": 93,
     "metadata": {},
     "output_type": "execute_result"
    }
   ],
   "source": [
    "items"
   ]
  },
  {
   "cell_type": "code",
   "execution_count": 94,
   "metadata": {},
   "outputs": [
    {
     "name": "stdout",
     "output_type": "stream",
     "text": [
      "Document 1:\n",
      "\n",
      "Habit 10 , T oo Much, is rooted in the quest to be authentic and connect\n",
      "with others based on shared experience.\n",
      "Habit 1 1, Ruminating, is rooted in the capacity for thinking deep ly about\n",
      "what ma tters m ost to you inste ad of skimming along the surf ace of your\n",
      "life.\n",
      "----------------------------------------------------------------------------------------------------\n",
      "Document 2:\n",
      "\n",
      "about standing your ground. This can result in your being overlooked\n",
      "or disregarded.\n",
      "• Habit 1 1, Ruminating, is often a consequence of Habit  12, Letting\n",
      "Y our Radar Distract Y ou. Because you notice so much, you have a lot\n",
      "to process and may end up mulling over negatives in a way that\n",
      "undermines you and keeps you stuck. This can make you appear\n",
      "disor ganized or a bit clueless.\n",
      "Once yo u identi fy the cluster o f habits that’ s getting in your way , you\n",
      "can choose the one you want to tackle first. Y ou’ll find suggesti ons on how\n",
      "to overcome counterproductive behaviors in the next two chapters. But first,\n",
      "you’ll need to figure out  wher e  to start.\n",
      "BREAKING IT DOWN\n",
      "A great way to start is by break ing down a problem behavior into discrete,\n",
      "specific habits that can be addr essed one at a time. Say  for example you\n",
      "recognize yourself in the description of Habit  8, The Disease to Please. Like\n",
      "Nancy , the hospital administrator profiled in Chapter 12 , yo u think of\n",
      "----------------------------------------------------------------------------------------------------\n",
      "Document 3:\n",
      "\n",
      "• If you identify with Habit 3, Overvaluing Expertise, you may also\n",
      "struggle with Habit 6, Putting Y our Job Before Y our Career . Both\n",
      "reflect a desire to keep your head down and focus on the task\n",
      "immediately before you instead of aiming at a lar ger long-term goal.\n",
      "• These two behaviors often overlap with Habit 7, The Perfection T rap,\n",
      "since all three are rooted in the hope or expectation that you’ll be\n",
      "rewarded if you just get every detail right. These habits often appear\n",
      "to others as a tendency to think small. They can result in your getting\n",
      "tagged as someone who’ll willingly take on drudge work but isn’ t\n",
      "ready for the big-picture thinking that being a leader requires.\n",
      "• Habits 9 and 10 also align, since both Minimizing and T oo Much\n",
      "reflect a reluctance to speak your truth with clarity , intention, and\n",
      "force. Because you don’ t want to risk antagonizing others or making\n",
      "them feel bad, you may signal in advance that you’re ambivalent\n",
      "----------------------------------------------------------------------------------------------------\n",
      "Document 4:\n",
      "\n",
      "conviction that you should valu e others for who they are rather than how\n",
      "they can be of use to you.\n",
      "Habit 5, Failing to Enlist Allies from Day One, is rooted in the belief\n",
      "that you should not call on others for help until you’ve done your\n",
      "homework and know the parameters of your job.\n",
      "Habit 6,  Putting  Y our Job Before Y our Career , is rooted in the desire to\n",
      "demonstrate loyalty and commit ment, as well as the sensible belief that you\n",
      "should take life one step at a tim e instead of getting all wrappe d up in the\n",
      "future.\n",
      "Habit 7,  The Perfection T rap, is rooted in the desire not to disappoint\n",
      "others (i ncluding and perhaps especially your family of origin), along with\n",
      "a commitment to making the world a better place.\n",
      "Habit 8, The Disease to Please, is rooted in an unselfish passion for\n",
      "making other people happy .\n",
      "Habit 9, Minimizing, is rooted in an awareness of other people’ s needs\n",
      "and the wish to show them that you value their presence and insights.\n",
      "----------------------------------------------------------------------------------------------------\n",
      "Document 5:\n",
      "\n",
      "1 1. Habit 7: The Perfection T rap\n",
      "12. Habit 8: The Disease to Please\n",
      "13. Habit 9: Minimizing\n",
      "14. Habit 10: T oo Much\n",
      "15. Habit 1 1: Ruminating\n",
      "16. Habit 12: Letting Y our Radar Distract Y ou\n",
      "P AR T III\n",
      "Changing for the Better\n",
      "17. Start with One Thing\n",
      "18. Don’ t Do It Alone\n",
      "19. Let Go of Judgment\n",
      "20. Remember What Got Y ou Here\n",
      "Acknowledgments\n",
      "About the Authors\n",
      "More praise for How W omen Rise\n",
      "Newsletters\n"
     ]
    }
   ],
   "source": [
    "pretty_print_docs(items)"
   ]
  },
  {
   "cell_type": "markdown",
   "metadata": {},
   "source": [
    "# BM25\n",
    "\n",
    "BM25 also known as the Okapi BM25, is a ranking function used in information retrieval systems to estimate the relevance of documents to a given search query.\n"
   ]
  },
  {
   "cell_type": "code",
   "execution_count": 88,
   "metadata": {},
   "outputs": [],
   "source": [
    "#!pip install --upgrade --quiet  rank_bm25"
   ]
  },
  {
   "cell_type": "code",
   "execution_count": 91,
   "metadata": {},
   "outputs": [],
   "source": [
    "from langchain.retrievers import BM25Retriever\n",
    "#retriever_BM25 = BM25Retriever.from_texts(texts)\n",
    "retriever_BM25 = BM25Retriever.from_documents(docs)"
   ]
  },
  {
   "cell_type": "code",
   "execution_count": 96,
   "metadata": {},
   "outputs": [],
   "source": [
    "query = \"How can we explains the habit 9 in a simple way?\" #habit9 : minimizing\n",
    "items =retriever_BM25.get_relevant_documents(query)\n"
   ]
  },
  {
   "cell_type": "code",
   "execution_count": 97,
   "metadata": {},
   "outputs": [
    {
     "data": {
      "text/plain": [
       "[Document(page_content='she saw it. When she finished, she received her first-ever standing ovation.\\nReframing is powerful because it doesn’ t force you to choose between\\nthe thoughts racing through yo ur mind and whatever it is you’re actually\\ntrying to communicate. It enables you to access all the richness of your left-\\nhand co lumn without getting bogged down in the trap of either/or . By\\nacknowledging what you’re feeling and finding strength in that, you harness\\nthe power of your radar to banish its shadow side.\\nSo the good news about overact ive radar is that it’ s nothing more than a\\nhabit. It’ s not a  deep characterological flaw . It’ s not a cons equence of\\npermanent neur al wiring. It’ s not an unchangeable manifestation of who\\nyou are.  Like the other eleven behaviors described in this book , it’ s a habit\\nyou can mitigate with the help of a few simple tools.', metadata={'pagina': 153, 'fichero': 'How-Women-Rise.pdf'}),\n",
       " Document(page_content='culture, except those in which their autonomy is severely restricted.\\nBut workplace cultural standar ds around the world have been almost\\nentirely set by men, especially  at the leadership level. T rust  at work is\\ngenerally viewed  as a matter of competence and reliability rather than frank\\nexchanges about what makes you tick. This is why routine personal\\ndisclosure, espe cially the sharing of doubts and weaknesses—“I guess I’m\\ninsecure” or “sometimes I fee l lonely in this job”—is more likely to\\ndiminish your credibility than to win you a place in your co-workers’\\nhearts. A lthough the emotional tenor of the workplace is shifting as women\\ngain greater influence and personal information is more freely exchanged\\nthan in the past, disclosure still represents a landmine for many women.\\nThe habit of di sclosure can also be rooted in the simple be lief that\\ntalking about your problems and weaknesses is the most dir ect route to\\nbeing, and being viewed as, authentic.', metadata={'pagina': 139, 'fichero': 'How-Women-Rise.pdf'}),\n",
       " Document(page_content='say something like this to a trusted colleague:\\n“Sharon, I’m wondering if you could help me out. I’m trying to  be more\\nef fective in how I communica te but I’ve realized I’m in the habit of\\napologizing even when I’ve done nothing wrong. Sometimes I hear myself\\nstarting a simple observation with ‘I’m sorry ,’ but most of the time I don’ t\\neven notice. I’m wondering if you could let me know when you hear me say\\nthis since we’ll be working tog ether a lot over the next month. If other\\npeople a re aroun d, you could just nod or raise your eyebrows to  cue me. I’d\\nbe grateful since this habit isn’ t helping me be my best.”\\nOr say you d ecide you need to draw more attention to your\\nachievements. M aybe like Ellen, the engineer in Chapter 2 , you’ve gotten\\nfeedback from your boss that you need to be more proactive in helping him\\nreach his goals. Y ou realize he t hinks this because you haven’ t kept him in\\nthe loop about what you’re doing. So you ask a colleague who also attends', metadata={'pagina': 163, 'fichero': 'How-Women-Rise.pdf'}),\n",
       " Document(page_content='Everyone has self-limiting beha viors, for the simple reason that we are\\nall human. But although men and women do sometimes shar e the same\\nundermining habits, they frequently do not. W omen often  face very\\ndif ferent challen ges as they seek  to advance in their careers and operate on\\na bigger  playing  field, so it makes sense that women would  adapt their\\nbehavior in dif ferent ways. And women are often rewarded dif ferently , as\\nwe will show in  the next chapter . These dif ferences shape their e xpectations', metadata={'pagina': 10, 'fichero': 'How-Women-Rise.pdf'})]"
      ]
     },
     "execution_count": 97,
     "metadata": {},
     "output_type": "execute_result"
    }
   ],
   "source": [
    "items"
   ]
  },
  {
   "cell_type": "code",
   "execution_count": 100,
   "metadata": {},
   "outputs": [
    {
     "name": "stdout",
     "output_type": "stream",
     "text": [
      "Document 1:\n",
      "\n",
      "she saw it. When she finished, she received her first-ever standing ovation.\n",
      "Reframing is powerful b\n",
      "----------------------------------------------------------------------------------------------------\n",
      "Document 2:\n",
      "\n",
      "culture, except those in which their autonomy is severely restricted.\n",
      "But workplace cultural standar\n",
      "----------------------------------------------------------------------------------------------------\n",
      "Document 3:\n",
      "\n",
      "say something like this to a trusted colleague:\n",
      "“Sharon, I’m wondering if you could help me out. I’m\n",
      "----------------------------------------------------------------------------------------------------\n",
      "Document 4:\n",
      "\n",
      "Everyone has self-limiting beha viors, for the simple reason that we are\n",
      "all human. But although men\n"
     ]
    }
   ],
   "source": [
    "pretty_print_docs(items)"
   ]
  },
  {
   "cell_type": "markdown",
   "metadata": {},
   "source": [
    "# MultiQueryRetriever\n"
   ]
  },
  {
   "cell_type": "code",
   "execution_count": 116,
   "metadata": {},
   "outputs": [
    {
     "data": {
      "text/plain": [
       "' The capital of France is Paris. It is located in the north-central part of the country, on the River Seine, and is one of the most populous and well-known cities in the world. \\n\\nParis is known for its history, culture, and many iconic landmarks, including the Eiffel Tower, the Louvre Museum, the Arc de Triomphe, and the Notre-Dame Cathedral. \\nIt is also renowned for its fashion, art, cuisine, and lively atmosphere, making it a popular tourist destination. \\n\\nWould you like to know more about Paris? '"
      ]
     },
     "execution_count": 116,
     "metadata": {},
     "output_type": "execute_result"
    }
   ],
   "source": [
    "from langchain_community.llms import Cohere\n",
    "\n",
    "llm = Cohere(model=\"command\",temperature=0)\n",
    "llm.invoke(\"What is the capital of France?.Be specific.\")"
   ]
  },
  {
   "cell_type": "code",
   "execution_count": 105,
   "metadata": {},
   "outputs": [
    {
     "name": "stdout",
     "output_type": "stream",
     "text": [
      "content='The capital of France is Paris. It is located in the north-central part of the country, on the River Seine, and is one of the most popular tourist destinations in the world. \\n\\nParis is renowned for its history, culture, and iconic landmarks, including the Eiffel Tower, the Louvre Museum, the Arc de Triomphe, and Notre-Dame Cathedral. The city is also known for its culinary scene, fashion, art, and architectural styles ranging from Haussmannism to Art Nouveau and Baroque. \\n\\nBeyond its iconic attractions, Paris offers a vibrant atmosphere and a diverse range of neighborhoods, each with its own unique character and charm.'\n"
     ]
    }
   ],
   "source": [
    "from langchain_community.chat_models import ChatCohere\n",
    "\n",
    "chat = ChatCohere()\n",
    "print(chat.invoke(\"What is the capital of France?. Be specific.\"))\n"
   ]
  },
  {
   "cell_type": "code",
   "execution_count": 117,
   "metadata": {},
   "outputs": [],
   "source": [
    "from langchain.retrievers.multi_query import MultiQueryRetriever\n",
    "\n",
    "retriever_multiquery = MultiQueryRetriever.from_llm(\n",
    "    retriever=index_load.as_retriever(), llm=llm\n",
    ")"
   ]
  },
  {
   "cell_type": "code",
   "execution_count": 118,
   "metadata": {},
   "outputs": [],
   "source": [
    "query = \"How can we explains the habit 9 in a simple way?\" #habit9 : minimizing\n",
    "items = retriever_multiquery.get_relevant_documents(query=query)\n"
   ]
  },
  {
   "cell_type": "code",
   "execution_count": 119,
   "metadata": {},
   "outputs": [
    {
     "data": {
      "text/plain": [
       "[Document(page_content='Habit 10 , T oo Much, is rooted in the quest to be authentic and connect\\nwith others based on shared experience.\\nHabit 1 1, Ruminating, is rooted in the capacity for thinking deep ly about\\nwhat ma tters m ost to you inste ad of skimming along the surf ace of your\\nlife.', metadata={'pagina': 187, 'fichero': 'How-Women-Rise.pdf'}),\n",
       " Document(page_content='• If you identify with Habit 3, Overvaluing Expertise, you may also\\nstruggle with Habit 6, Putting Y our Job Before Y our Career . Both\\nreflect a desire to keep your head down and focus on the task\\nimmediately before you instead of aiming at a lar ger long-term goal.\\n• These two behaviors often overlap with Habit 7, The Perfection T rap,\\nsince all three are rooted in the hope or expectation that you’ll be\\nrewarded if you just get every detail right. These habits often appear\\nto others as a tendency to think small. They can result in your getting\\ntagged as someone who’ll willingly take on drudge work but isn’ t\\nready for the big-picture thinking that being a leader requires.\\n• Habits 9 and 10 also align, since both Minimizing and T oo Much\\nreflect a reluctance to speak your truth with clarity , intention, and\\nforce. Because you don’ t want to risk antagonizing others or making\\nthem feel bad, you may signal in advance that you’re ambivalent', metadata={'pagina': 157, 'fichero': 'How-Women-Rise.pdf'}),\n",
       " Document(page_content='conviction that you should valu e others for who they are rather than how\\nthey can be of use to you.\\nHabit 5, Failing to Enlist Allies from Day One, is rooted in the belief\\nthat you should not call on others for help until you’ve done your\\nhomework and know the parameters of your job.\\nHabit 6,  Putting  Y our Job Before Y our Career , is rooted in the desire to\\ndemonstrate loyalty and commit ment, as well as the sensible belief that you\\nshould take life one step at a tim e instead of getting all wrappe d up in the\\nfuture.\\nHabit 7,  The Perfection T rap, is rooted in the desire not to disappoint\\nothers (i ncluding and perhaps especially your family of origin), along with\\na commitment to making the world a better place.\\nHabit 8, The Disease to Please, is rooted in an unselfish passion for\\nmaking other people happy .\\nHabit 9, Minimizing, is rooted in an awareness of other people’ s needs\\nand the wish to show them that you value their presence and insights.', metadata={'pagina': 187, 'fichero': 'How-Women-Rise.pdf'}),\n",
       " Document(page_content='CHAPTER 17\\nS t a r t  w i t h  O n e  T h i n g\\nS o no w you kno w which habit—or , let’ s be honest, habits—may be\\nplaying a role in keeping you stuck. Maybe they’re habits you’ve grown\\nattached to because they helped  you in the past. It’ s humbling t o admit that\\nwhat used to wo rk for you has stopped working, and a little sc ary because\\nfamiliar behaviors can feel like part of who you are. But it’ s inspiring to\\nconsider how much you might benefit from letting them go.\\nHere’ s t he tough part: making sustainable and lasting change requires\\nfocus. Not just momentary “Let’ s do it” enthusiasm, but the willingness to\\nmake a consistent ef fort over time. This is best achieved by identifying one\\nbehavior , or even one  part  of one b ehavior , and working o n it until you can\\nsee som e progress. That’ s because making small changes, and repeating\\nthem un til they become habitual, is more likely to yield long-term results\\nthan trying to become a brand-new you all at once.', metadata={'pagina': 155, 'fichero': 'How-Women-Rise.pdf'}),\n",
       " Document(page_content='PART II\\nT h e  H a b i t s  T h a t  K e e p  W o m e n  f r o m\\nR e a c h i n g  T h e i r  G o a l s', metadata={'pagina': 42, 'fichero': 'How-Women-Rise.pdf'}),\n",
       " Document(page_content='PART I\\nO n  B e i n g  S t u c k', metadata={'pagina': 8, 'fichero': 'How-Women-Rise.pdf'}),\n",
       " Document(page_content='noticed.', metadata={'pagina': 73, 'fichero': 'How-Women-Rise.pdf'}),\n",
       " Document(page_content='earth.', metadata={'pagina': 107, 'fichero': 'How-Women-Rise.pdf'}),\n",
       " Document(page_content='about standing your ground. This can result in your being overlooked\\nor disregarded.\\n• Habit 1 1, Ruminating, is often a consequence of Habit  12, Letting\\nY our Radar Distract Y ou. Because you notice so much, you have a lot\\nto process and may end up mulling over negatives in a way that\\nundermines you and keeps you stuck. This can make you appear\\ndisor ganized or a bit clueless.\\nOnce yo u identi fy the cluster o f habits that’ s getting in your way , you\\ncan choose the one you want to tackle first. Y ou’ll find suggesti ons on how\\nto overcome counterproductive behaviors in the next two chapters. But first,\\nyou’ll need to figure out  wher e  to start.\\nBREAKING IT DOWN\\nA great way to start is by break ing down a problem behavior into discrete,\\nspecific habits that can be addr essed one at a time. Say  for example you\\nrecognize yourself in the description of Habit  8, The Disease to Please. Like\\nNancy , the hospital administrator profiled in Chapter 12 , yo u think of', metadata={'pagina': 157, 'fichero': 'How-Women-Rise.pdf'})]"
      ]
     },
     "execution_count": 119,
     "metadata": {},
     "output_type": "execute_result"
    }
   ],
   "source": [
    "items"
   ]
  },
  {
   "cell_type": "code",
   "execution_count": 120,
   "metadata": {},
   "outputs": [
    {
     "name": "stdout",
     "output_type": "stream",
     "text": [
      "Document 1:\n",
      "\n",
      "Habit 10 , T oo Much, is rooted in the quest to be authentic and connect\n",
      "with others based on shared\n",
      "----------------------------------------------------------------------------------------------------\n",
      "Document 2:\n",
      "\n",
      "• If you identify with Habit 3, Overvaluing Expertise, you may also\n",
      "struggle with Habit 6, Putting Y\n",
      "----------------------------------------------------------------------------------------------------\n",
      "Document 3:\n",
      "\n",
      "conviction that you should valu e others for who they are rather than how\n",
      "they can be of use to you.\n",
      "----------------------------------------------------------------------------------------------------\n",
      "Document 4:\n",
      "\n",
      "CHAPTER 17\n",
      "S t a r t  w i t h  O n e  T h i n g\n",
      "S o no w you kno w which habit—or , let’ s be honest\n",
      "----------------------------------------------------------------------------------------------------\n",
      "Document 5:\n",
      "\n",
      "PART II\n",
      "T h e  H a b i t s  T h a t  K e e p  W o m e n  f r o m\n",
      "R e a c h i n g  T h e i r  G o a l\n",
      "----------------------------------------------------------------------------------------------------\n",
      "Document 6:\n",
      "\n",
      "PART I\n",
      "O n  B e i n g  S t u c k\n",
      "----------------------------------------------------------------------------------------------------\n",
      "Document 7:\n",
      "\n",
      "noticed.\n",
      "----------------------------------------------------------------------------------------------------\n",
      "Document 8:\n",
      "\n",
      "earth.\n",
      "----------------------------------------------------------------------------------------------------\n",
      "Document 9:\n",
      "\n",
      "about standing your ground. This can result in your being overlooked\n",
      "or disregarded.\n",
      "• Habit 1 1, Ru\n"
     ]
    }
   ],
   "source": [
    "pretty_print_docs(items)"
   ]
  },
  {
   "cell_type": "markdown",
   "metadata": {},
   "source": [
    "# RAG Fusion\n",
    "\n",
    "Employing multiple query generation and Reciprocal Rank Fusion to re-rank search result\n",
    "https://github.com/langchain-ai/langchain/blob/master/cookbook/rag_fusion.ipynb"
   ]
  },
  {
   "cell_type": "code",
   "execution_count": 121,
   "metadata": {},
   "outputs": [],
   "source": [
    "from langchain.prompts import ChatPromptTemplate\n",
    "\n",
    "prompt = ChatPromptTemplate.from_messages([\n",
    "     (\"system\", \"You are a helpful assistant that generates multiple search queries based on a single input query.\"),\n",
    "     (\"user\", \"Generate multiple search queries related to: {original_query}\"),\n",
    "     (\"user\", \"OUTPUT (4 queries):\")\n",
    " ])"
   ]
  },
  {
   "cell_type": "code",
   "execution_count": 122,
   "metadata": {},
   "outputs": [],
   "source": [
    "from langchain_core.output_parsers import StrOutputParser\n",
    "generate_queries = (\n",
    "    prompt | llm | StrOutputParser() | (lambda x: x.split(\"\\n\"))\n",
    ")"
   ]
  },
  {
   "cell_type": "code",
   "execution_count": 123,
   "metadata": {},
   "outputs": [],
   "source": [
    "retriever=index_load.as_retriever()"
   ]
  },
  {
   "cell_type": "code",
   "execution_count": 128,
   "metadata": {},
   "outputs": [],
   "source": [
    "from langchain_core.load import dumps, loads\n",
    "def reciprocal_rank_fusion(results: list[list], k=60):\n",
    "    fused_scores = {}\n",
    "    for docs in results:\n",
    "        # Assumes the docs are returned in sorted order of relevance\n",
    "        for rank, doc in enumerate(docs):\n",
    "            doc_str = dumps(doc)\n",
    "            if doc_str not in fused_scores:\n",
    "                fused_scores[doc_str] = 0\n",
    "            previous_score = fused_scores[doc_str]\n",
    "            fused_scores[doc_str] += 1 / (rank + k)\n",
    "\n",
    "    reranked_results = [\n",
    "        (loads(doc), score)\n",
    "        for doc, score in sorted(fused_scores.items(), key=lambda x: x[1], reverse=True)\n",
    "    ]\n",
    "    return reranked_results"
   ]
  },
  {
   "cell_type": "code",
   "execution_count": 129,
   "metadata": {},
   "outputs": [],
   "source": [
    "chain = generate_queries | retriever.map() | reciprocal_rank_fusion"
   ]
  },
  {
   "cell_type": "code",
   "execution_count": 130,
   "metadata": {},
   "outputs": [],
   "source": [
    "items = chain.invoke({\"original_query\": query})"
   ]
  },
  {
   "cell_type": "code",
   "execution_count": 131,
   "metadata": {},
   "outputs": [
    {
     "data": {
      "text/plain": [
       "[(Document(page_content='conviction that you should valu e others for who they are rather than how\\nthey can be of use to you.\\nHabit 5, Failing to Enlist Allies from Day One, is rooted in the belief\\nthat you should not call on others for help until you’ve done your\\nhomework and know the parameters of your job.\\nHabit 6,  Putting  Y our Job Before Y our Career , is rooted in the desire to\\ndemonstrate loyalty and commit ment, as well as the sensible belief that you\\nshould take life one step at a tim e instead of getting all wrappe d up in the\\nfuture.\\nHabit 7,  The Perfection T rap, is rooted in the desire not to disappoint\\nothers (i ncluding and perhaps especially your family of origin), along with\\na commitment to making the world a better place.\\nHabit 8, The Disease to Please, is rooted in an unselfish passion for\\nmaking other people happy .\\nHabit 9, Minimizing, is rooted in an awareness of other people’ s needs\\nand the wish to show them that you value their presence and insights.', metadata={'pagina': 187, 'fichero': 'How-Women-Rise.pdf'}),\n",
       "  0.06612021857923497),\n",
       " (Document(page_content='• If you identify with Habit 3, Overvaluing Expertise, you may also\\nstruggle with Habit 6, Putting Y our Job Before Y our Career . Both\\nreflect a desire to keep your head down and focus on the task\\nimmediately before you instead of aiming at a lar ger long-term goal.\\n• These two behaviors often overlap with Habit 7, The Perfection T rap,\\nsince all three are rooted in the hope or expectation that you’ll be\\nrewarded if you just get every detail right. These habits often appear\\nto others as a tendency to think small. They can result in your getting\\ntagged as someone who’ll willingly take on drudge work but isn’ t\\nready for the big-picture thinking that being a leader requires.\\n• Habits 9 and 10 also align, since both Minimizing and T oo Much\\nreflect a reluctance to speak your truth with clarity , intention, and\\nforce. Because you don’ t want to risk antagonizing others or making\\nthem feel bad, you may signal in advance that you’re ambivalent', metadata={'pagina': 157, 'fichero': 'How-Women-Rise.pdf'}),\n",
       "  0.06532656778558418),\n",
       " (Document(page_content='Habit 10 , T oo Much, is rooted in the quest to be authentic and connect\\nwith others based on shared experience.\\nHabit 1 1, Ruminating, is rooted in the capacity for thinking deep ly about\\nwhat ma tters m ost to you inste ad of skimming along the surf ace of your\\nlife.', metadata={'pagina': 187, 'fichero': 'How-Women-Rise.pdf'}),\n",
       "  0.04841269841269841),\n",
       " (Document(page_content='now . They may not get you there—that is, where you want to go. But you\\nwill ben efit from  maintaining a healthy respect for the gifts you bring and\\nfor w hat you ha ve achieved as y ou go about addressing behaviors that may\\nhave limited you in the past.\\nFor example, it’ s helpful to recognize that:\\nHabit 1, Reluctance to Claim Y our Achievements, is rooted in genuine\\nmodesty and a generous willing ness to acknowledge the achievements of\\nothers.\\nHabit 2,  Expecting Others to Spontaneously Notice and Reward Y our\\nContributions, is rooted in a reluctance to showboat or behave like a self-\\npromoting jerk—along with the perception that, because  you  notice what\\nothers contribute, other people will (or should) too.\\nHabit 3, Overvaluing Expertise, is rooted in a healthy respect for all the\\nskills your job requires and the willingness to work hard to master them.\\nHabit 4, Building Rather Than Leveraging Relationships, is rooted in the', metadata={'pagina': 187, 'fichero': 'How-Women-Rise.pdf'}),\n",
       "  0.03200204813108039),\n",
       " (Document(page_content='that help  people  achieve high p ositions often undermine them as they seek\\nto m ove further up. Because these behaviors worked in the past, people are\\nreluctant to let go of them. On the contrary , many believe they are\\nsuccessful  because  of these bad habits.\\nAny human, in fact any animal, will tend to replicate behavior that is\\nfollowed by positive reinforcement. The more successful we b ecome, the\\nmore po sitive reinforcement we get. W e can easily fall into the “ superstition\\ntrap,” w hich is: “I behave this way , I am successful—therefor e I must be\\nsuccessful because I behave this way .”\\nW rong!\\nW e are all successful  because of  the fact that we do many things right\\nand  in spite of  th e fact that w e are doing some things that actually work\\nagainst us.\\nMarshall wrote the book for a broad audience—not just leade rs at the\\ntop of their or ganization’ s pyramid or ladder , but those on the middle rungs', metadata={'pagina': 10, 'fichero': 'How-Women-Rise.pdf'}),\n",
       "  0.016129032258064516),\n",
       " (Document(page_content='about standing your ground. This can result in your being overlooked\\nor disregarded.\\n• Habit 1 1, Ruminating, is often a consequence of Habit  12, Letting\\nY our Radar Distract Y ou. Because you notice so much, you have a lot\\nto process and may end up mulling over negatives in a way that\\nundermines you and keeps you stuck. This can make you appear\\ndisor ganized or a bit clueless.\\nOnce yo u identi fy the cluster o f habits that’ s getting in your way , you\\ncan choose the one you want to tackle first. Y ou’ll find suggesti ons on how\\nto overcome counterproductive behaviors in the next two chapters. But first,\\nyou’ll need to figure out  wher e  to start.\\nBREAKING IT DOWN\\nA great way to start is by break ing down a problem behavior into discrete,\\nspecific habits that can be addr essed one at a time. Say  for example you\\nrecognize yourself in the description of Habit  8, The Disease to Please. Like\\nNancy , the hospital administrator profiled in Chapter 12 , yo u think of', metadata={'pagina': 157, 'fichero': 'How-Women-Rise.pdf'}),\n",
       "  0.016129032258064516),\n",
       " (Document(page_content='CHAPTER 17\\nS t a r t  w i t h  O n e  T h i n g\\nS o no w you kno w which habit—or , let’ s be honest, habits—may be\\nplaying a role in keeping you stuck. Maybe they’re habits you’ve grown\\nattached to because they helped  you in the past. It’ s humbling t o admit that\\nwhat used to wo rk for you has stopped working, and a little sc ary because\\nfamiliar behaviors can feel like part of who you are. But it’ s inspiring to\\nconsider how much you might benefit from letting them go.\\nHere’ s t he tough part: making sustainable and lasting change requires\\nfocus. Not just momentary “Let’ s do it” enthusiasm, but the willingness to\\nmake a consistent ef fort over time. This is best achieved by identifying one\\nbehavior , or even one  part  of one b ehavior , and working o n it until you can\\nsee som e progress. That’ s because making small changes, and repeating\\nthem un til they become habitual, is more likely to yield long-term results\\nthan trying to become a brand-new you all at once.', metadata={'pagina': 155, 'fichero': 'How-Women-Rise.pdf'}),\n",
       "  0.016129032258064516)]"
      ]
     },
     "execution_count": 131,
     "metadata": {},
     "output_type": "execute_result"
    }
   ],
   "source": [
    "items"
   ]
  },
  {
   "cell_type": "code",
   "execution_count": 133,
   "metadata": {},
   "outputs": [
    {
     "name": "stdout",
     "output_type": "stream",
     "text": [
      "conviction that you should valu e others for who they are rather than how\n",
      "they can be of use to you.\n",
      "Habit 5, Failing to Enlist Allies from Day One, is rooted in the belief\n",
      "that you should not call on others for help until you’ve done your\n",
      "homework and know the parameters of your job.\n",
      "Habit 6,  Putting  Y our Job Before Y our Career , is rooted in the desire to\n",
      "demonstrate loyalty and commit ment, as well as the sensible belief that you\n",
      "should take life one step at a tim e instead of getting all wrappe d up in the\n",
      "future.\n",
      "Habit 7,  The Perfection T rap, is rooted in the desire not to disappoint\n",
      "others (i ncluding and perhaps especially your family of origin), along with\n",
      "a commitment to making the world a better place.\n",
      "Habit 8, The Disease to Please, is rooted in an unselfish passion for\n",
      "making other people happy .\n",
      "Habit 9, Minimizing, is rooted in an awareness of other people’ s needs\n",
      "and the wish to show them that you value their presence and insights.\n"
     ]
    }
   ],
   "source": [
    "print(items[0][0].page_content)"
   ]
  },
  {
   "cell_type": "code",
   "execution_count": 134,
   "metadata": {},
   "outputs": [
    {
     "name": "stdout",
     "output_type": "stream",
     "text": [
      "{'pagina': 187, 'fichero': 'How-Women-Rise.pdf'}\n"
     ]
    }
   ],
   "source": [
    "print(items[0][0].metadata)"
   ]
  },
  {
   "cell_type": "code",
   "execution_count": 135,
   "metadata": {},
   "outputs": [
    {
     "name": "stdout",
     "output_type": "stream",
     "text": [
      "0.06612021857923497\n"
     ]
    }
   ],
   "source": [
    "print(items[0][1])"
   ]
  },
  {
   "cell_type": "markdown",
   "metadata": {},
   "source": [
    "# Doing Reranking"
   ]
  },
  {
   "cell_type": "code",
   "execution_count": null,
   "metadata": {},
   "outputs": [],
   "source": [
    "from langchain.retrievers import ContextualCompressionRetriever\n",
    "from langchain.retrievers.document_compressors import CohereRerank\n",
    "\n",
    "compressor = CohereRerank()\n",
    "compression_retriever = ContextualCompressionRetriever(\n",
    "    base_compressor=compressor, base_retriever=retriever\n",
    ")"
   ]
  }
 ],
 "metadata": {
  "kernelspec": {
   "display_name": "mrag",
   "language": "python",
   "name": "python3"
  },
  "language_info": {
   "codemirror_mode": {
    "name": "ipython",
    "version": 3
   },
   "file_extension": ".py",
   "mimetype": "text/x-python",
   "name": "python",
   "nbconvert_exporter": "python",
   "pygments_lexer": "ipython3",
   "version": "3.11.8"
  }
 },
 "nbformat": 4,
 "nbformat_minor": 2
}
