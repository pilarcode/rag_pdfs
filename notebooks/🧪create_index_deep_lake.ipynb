{
 "cells": [
  {
   "cell_type": "code",
   "execution_count": 1,
   "metadata": {},
   "outputs": [],
   "source": [
    "%load_ext autoreload\n",
    "%autoreload 2"
   ]
  },
  {
   "cell_type": "code",
   "execution_count": 2,
   "metadata": {},
   "outputs": [],
   "source": [
    "import sys\n",
    "import os\n",
    "sys.path.append(\"../src/mrag\")\n",
    "sys.path.append(\"../src/mrag/utils\")\n",
    "\n",
    "from llm_instances import get_embeddings_instance\n",
    "from vector_store import VectorIndex\n",
    "from doc_loader import Loader"
   ]
  },
  {
   "cell_type": "markdown",
   "metadata": {},
   "source": [
    "# Embedding function\n"
   ]
  },
  {
   "cell_type": "code",
   "execution_count": 3,
   "metadata": {},
   "outputs": [],
   "source": [
    "embedding_function = get_embeddings_instance()"
   ]
  },
  {
   "cell_type": "markdown",
   "metadata": {},
   "source": [
    "# Paths"
   ]
  },
  {
   "cell_type": "code",
   "execution_count": 4,
   "metadata": {},
   "outputs": [],
   "source": [
    "JSON_PATHS = \"../app/scenario/jsons/\"\n",
    "SPECS_PATHS = \"../app/scenario/specs/\""
   ]
  },
  {
   "cell_type": "markdown",
   "metadata": {},
   "source": [
    "# Cargar documentos"
   ]
  },
  {
   "cell_type": "code",
   "execution_count": 5,
   "metadata": {},
   "outputs": [
    {
     "name": "stdout",
     "output_type": "stream",
     "text": [
      "Docs loades 9\n"
     ]
    }
   ],
   "source": [
    "load = Loader(docs_path=JSON_PATHS, specs_path=SPECS_PATHS)\n",
    "docs = load.extract_docs()\n",
    "print(\"Docs loades\", len(docs))"
   ]
  },
  {
   "cell_type": "markdown",
   "metadata": {},
   "source": [
    "# Crear el indice con DeepLake"
   ]
  },
  {
   "cell_type": "code",
   "execution_count": 6,
   "metadata": {},
   "outputs": [],
   "source": [
    "VECTOR_INDEX_PATH = \"../app/scenario/deeplake/\"\n",
    "VECTOR_DB_TYPE = \"deeplake\""
   ]
  },
  {
   "cell_type": "code",
   "execution_count": 17,
   "metadata": {},
   "outputs": [
    {
     "name": "stdout",
     "output_type": "stream",
     "text": [
      "Deep Lake Dataset in ../app/scenario/deeplake/ already exists, loading from the storage\n"
     ]
    }
   ],
   "source": [
    "vector_index = VectorIndex(\n",
    "    docs,\n",
    "    index_path=VECTOR_INDEX_PATH,\n",
    "    vector_db_type=VECTOR_DB_TYPE,\n",
    "    embedding_function=embedding_function,\n",
    ")\n"
   ]
  },
  {
   "cell_type": "code",
   "execution_count": 18,
   "metadata": {},
   "outputs": [
    {
     "name": "stdout",
     "output_type": "stream",
     "text": [
      "Dataset(path='../app/scenario/deeplake/', read_only=True, tensors=['embedding', 'id', 'metadata', 'text'])\n",
      "\n",
      "  tensor      htype      shape     dtype  compression\n",
      "  -------    -------    -------   -------  ------- \n",
      " embedding  embedding  (9, 1536)  float32   None   \n",
      "    id        text      (9, 1)      str     None   \n",
      " metadata     json      (9, 1)      str     None   \n",
      "   text       text      (9, 1)      str     None   \n"
     ]
    }
   ],
   "source": [
    "vector_index.index.vectorstore.summary()"
   ]
  },
  {
   "cell_type": "markdown",
   "metadata": {},
   "source": [
    "* Docs"
   ]
  },
  {
   "cell_type": "code",
   "execution_count": 19,
   "metadata": {},
   "outputs": [
    {
     "data": {
      "text/plain": [
       "array([[\"{'summary': 'List all pets', 'url': '/pets', 'operationId': 'listPets', 'http_method': 'get', 'country': 'br', 'parameters': [{'name': 'limit', 'in': 'query', 'description': 'How many items to return at one time (max 100)', 'required': False, 'schema': {'type': 'integer', 'maximum': 100, 'format': 'int32'}}]}\"],\n",
       "       [\"{'summary': 'Info for a specific pet', 'url': '/pets/{petId}', 'operationId': 'showPetById', 'http_method': 'get', 'country': 'br', 'parameters': [{'name': 'petId', 'in': 'path', 'required': True, 'description': 'The id of the pet to retrieve', 'schema': {'type': 'string'}}]}\"],\n",
       "       [\"{'summary': 'Create a pet', 'url': '/pets', 'operationId': 'createPets', 'http_method': 'post', 'country': 'br', 'parameters': None}\"],\n",
       "       [\"{'summary': 'List all pets', 'url': '/pets', 'operationId': 'listPets', 'http_method': 'get', 'country': 'core', 'parameters': [{'name': 'limit', 'in': 'query', 'description': 'How many items to return at one time (max 100)', 'required': False, 'schema': {'type': 'integer', 'maximum': 100, 'format': 'int32'}}]}\"],\n",
       "       [\"{'summary': 'Info for a specific pet', 'url': '/pets/{petId}', 'operationId': 'showPetById', 'http_method': 'get', 'country': 'core', 'parameters': [{'name': 'petId', 'in': 'path', 'required': True, 'description': 'The id of the pet to retrieve', 'schema': {'type': 'string'}}]}\"],\n",
       "       [\"{'summary': 'Create a pet', 'url': '/pets', 'operationId': 'createPets', 'http_method': 'post', 'country': 'core', 'parameters': None}\"],\n",
       "       [\"{'summary': 'List all pets', 'url': '/pets', 'operationId': 'listPets', 'http_method': 'get', 'country': 'mx', 'parameters': [{'name': 'limit', 'in': 'query', 'description': 'How many items to return at one time (max 100)', 'required': False, 'schema': {'type': 'integer', 'maximum': 100, 'format': 'int32'}}]}\"],\n",
       "       [\"{'summary': 'Info for a specific pet', 'url': '/pets/{petId}', 'operationId': 'showPetById', 'http_method': 'get', 'country': 'mx', 'parameters': [{'name': 'petId', 'in': 'path', 'required': True, 'description': 'The id of the pet to retrieve', 'schema': {'type': 'string'}}]}\"],\n",
       "       [\"{'summary': 'Create a pet', 'url': '/pets', 'operationId': 'createPets', 'http_method': 'post', 'country': 'mx', 'parameters': None}\"]],\n",
       "      dtype='<U312')"
      ]
     },
     "execution_count": 19,
     "metadata": {},
     "output_type": "execute_result"
    }
   ],
   "source": [
    "docs = vector_index.index.vectorstore.dataset.text.numpy()\n",
    "docs"
   ]
  },
  {
   "cell_type": "markdown",
   "metadata": {},
   "source": [
    "* Metadatas"
   ]
  },
  {
   "cell_type": "code",
   "execution_count": 20,
   "metadata": {},
   "outputs": [
    {
     "data": {
      "text/plain": [
       "array([[{'source': 'br_petstore.yaml'}],\n",
       "       [{'source': 'br_petstore.yaml'}],\n",
       "       [{'source': 'br_petstore.yaml'}],\n",
       "       [{'source': 'core_petstore.yaml'}],\n",
       "       [{'source': 'core_petstore.yaml'}],\n",
       "       [{'source': 'core_petstore.yaml'}],\n",
       "       [{'source': 'mx_petstore.yaml'}],\n",
       "       [{'source': 'mx_petstore.yaml'}],\n",
       "       [{'source': 'mx_petstore.yaml'}]], dtype=object)"
      ]
     },
     "execution_count": 20,
     "metadata": {},
     "output_type": "execute_result"
    }
   ],
   "source": [
    "metadatas = vector_index.index.vectorstore.dataset.metadata.numpy()\n",
    "metadatas"
   ]
  },
  {
   "cell_type": "markdown",
   "metadata": {},
   "source": [
    "* Ids"
   ]
  },
  {
   "cell_type": "code",
   "execution_count": 21,
   "metadata": {},
   "outputs": [
    {
     "data": {
      "text/plain": [
       "array([['f9f0b141-a757-11ee-b60b-64d69a910858'],\n",
       "       ['f9f0b142-a757-11ee-98a7-64d69a910858'],\n",
       "       ['f9f0b143-a757-11ee-b082-64d69a910858'],\n",
       "       ['f9f0b144-a757-11ee-b8f9-64d69a910858'],\n",
       "       ['f9f0b145-a757-11ee-9aea-64d69a910858'],\n",
       "       ['f9f0b146-a757-11ee-8297-64d69a910858'],\n",
       "       ['f9f0b147-a757-11ee-9092-64d69a910858'],\n",
       "       ['f9f0b148-a757-11ee-bdca-64d69a910858'],\n",
       "       ['f9f0b149-a757-11ee-a0b8-64d69a910858']], dtype='<U36')"
      ]
     },
     "execution_count": 21,
     "metadata": {},
     "output_type": "execute_result"
    }
   ],
   "source": [
    "ids =vector_index.index.vectorstore.dataset.id.numpy()\n",
    "ids"
   ]
  },
  {
   "cell_type": "code",
   "execution_count": 22,
   "metadata": {},
   "outputs": [
    {
     "data": {
      "text/plain": [
       "9"
      ]
     },
     "execution_count": 22,
     "metadata": {},
     "output_type": "execute_result"
    }
   ],
   "source": [
    "len(ids)"
   ]
  },
  {
   "cell_type": "markdown",
   "metadata": {},
   "source": [
    "* Embeddings"
   ]
  },
  {
   "cell_type": "code",
   "execution_count": 16,
   "metadata": {},
   "outputs": [
    {
     "data": {
      "text/plain": [
       "array([[ 0.00190076,  0.01243281, -0.01023563, ..., -0.00603554,\n",
       "         0.01583576, -0.04029946],\n",
       "       [-0.00739992,  0.02547734,  0.01336715, ...,  0.00116067,\n",
       "         0.00316101, -0.03741182],\n",
       "       [-0.00646023,  0.01727263, -0.00740547, ...,  0.00256879,\n",
       "         0.00929594, -0.04825455],\n",
       "       ...,\n",
       "       [-0.00192312,  0.00396035, -0.010458  , ..., -0.00329749,\n",
       "         0.01652605, -0.03912016],\n",
       "       [-0.00922077,  0.01617181,  0.01488833, ...,  0.00468807,\n",
       "         0.00342655, -0.03509971],\n",
       "       [-0.00932216,  0.00903274, -0.01056063, ...,  0.00863562,\n",
       "         0.00916062, -0.04681946]], dtype=float32)"
      ]
     },
     "execution_count": 16,
     "metadata": {},
     "output_type": "execute_result"
    }
   ],
   "source": [
    "embeddings = vector_index.index.vectorstore.dataset.embedding.numpy()\n",
    "embeddings"
   ]
  }
 ],
 "metadata": {
  "kernelspec": {
   "display_name": "mrag",
   "language": "python",
   "name": "python3"
  },
  "language_info": {
   "codemirror_mode": {
    "name": "ipython",
    "version": 3
   },
   "file_extension": ".py",
   "mimetype": "text/x-python",
   "name": "python",
   "nbconvert_exporter": "python",
   "pygments_lexer": "ipython3",
   "version": "3.11.7"
  }
 },
 "nbformat": 4,
 "nbformat_minor": 2
}
