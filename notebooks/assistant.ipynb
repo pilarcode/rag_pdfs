{
 "cells": [
  {
   "cell_type": "code",
   "execution_count": 1,
   "metadata": {},
   "outputs": [],
   "source": [
    "%load_ext autoreload\n",
    "%autoreload 2"
   ]
  },
  {
   "cell_type": "code",
   "execution_count": 2,
   "metadata": {},
   "outputs": [],
   "source": [
    "import sys\n",
    "sys.path.append(\"../src\")\n",
    "\n",
    "from assistant import Assistant"
   ]
  },
  {
   "cell_type": "code",
   "execution_count": 4,
   "metadata": {},
   "outputs": [
    {
     "name": "stdout",
     "output_type": "stream",
     "text": [
      "Cargando el index\n"
     ]
    }
   ],
   "source": [
    "FAISS_INDEX_PATH = \"../app/scenario/faiss_index\"\n",
    "PDF_PATH = \"../app/scenario/How-Women-Rise.pdf\"\n",
    "\n",
    "assistant = Assistant(pdf_path=PDF_PATH, index_path=FAISS_INDEX_PATH)"
   ]
  },
  {
   "cell_type": "code",
   "execution_count": 7,
   "metadata": {},
   "outputs": [],
   "source": [
    "query = \"How can we explain the habit 9 in a simple way?\"\n",
    "response = assistant.request(question=query)"
   ]
  },
  {
   "cell_type": "code",
   "execution_count": 10,
   "metadata": {},
   "outputs": [
    {
     "name": "stdout",
     "output_type": "stream",
     "text": [
      "(' Habit 9 is about minimizing, and it can be explained as not being fully '\n",
      " \"truthful about one's feelings in order to avoid conflict. This can create \"\n",
      " 'issues in relationships with others, especially when they want to know how '\n",
      " 'you really feel. \\n'\n",
      " '\\n'\n",
      " 'Thanks for asking! Is there any further context or information that I can '\n",
      " 'provide? ')\n"
     ]
    }
   ],
   "source": [
    "from pprint import pprint\n",
    "\n",
    "pprint(response)\n",
    "\n"
   ]
  }
 ],
 "metadata": {
  "kernelspec": {
   "display_name": "ia_dev",
   "language": "python",
   "name": "python3"
  },
  "language_info": {
   "codemirror_mode": {
    "name": "ipython",
    "version": 3
   },
   "file_extension": ".py",
   "mimetype": "text/x-python",
   "name": "python",
   "nbconvert_exporter": "python",
   "pygments_lexer": "ipython3",
   "version": "3.11.8"
  }
 },
 "nbformat": 4,
 "nbformat_minor": 2
}
