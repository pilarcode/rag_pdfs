{
 "cells": [
  {
   "cell_type": "code",
   "execution_count": 1,
   "metadata": {},
   "outputs": [],
   "source": [
    "%load_ext autoreload\n",
    "%autoreload 2"
   ]
  },
  {
   "cell_type": "code",
   "execution_count": 2,
   "metadata": {},
   "outputs": [],
   "source": [
    "import sys\n",
    "import os\n",
    "sys.path.append(\"../src/mrag\")\n",
    "sys.path.append(\"../src/mrag/utils\")\n",
    "\n",
    "from llm_instances import get_embeddings_instance\n",
    "from vector_store import VectorIndex\n",
    "from doc_loader import Loader"
   ]
  },
  {
   "cell_type": "markdown",
   "metadata": {},
   "source": [
    "# Embedding function\n"
   ]
  },
  {
   "cell_type": "code",
   "execution_count": 3,
   "metadata": {},
   "outputs": [],
   "source": [
    "embedding_function = get_embeddings_instance()"
   ]
  },
  {
   "cell_type": "markdown",
   "metadata": {},
   "source": [
    "# Paths"
   ]
  },
  {
   "cell_type": "code",
   "execution_count": 4,
   "metadata": {},
   "outputs": [],
   "source": [
    "JSON_PATHS = \"../app/scenario/jsons/\"\n",
    "SPECS_PATHS = \"../app/scenario/specs/\""
   ]
  },
  {
   "cell_type": "markdown",
   "metadata": {},
   "source": [
    "# Cargar documentos"
   ]
  },
  {
   "cell_type": "code",
   "execution_count": 5,
   "metadata": {},
   "outputs": [
    {
     "name": "stdout",
     "output_type": "stream",
     "text": [
      "Docs loades 9\n"
     ]
    }
   ],
   "source": [
    "load = Loader(docs_path=JSON_PATHS, specs_path=SPECS_PATHS)\n",
    "docs = load.extract_docs()\n",
    "print(\"Docs loades\", len(docs))"
   ]
  },
  {
   "cell_type": "markdown",
   "metadata": {},
   "source": [
    "# Crear el indice con Faiss"
   ]
  },
  {
   "cell_type": "code",
   "execution_count": 6,
   "metadata": {},
   "outputs": [],
   "source": [
    "VECTOR_INDEX_PATH = \"../app/scenario/faiss/\"\n",
    "VECTOR_DB_TYPE = \"faiss\""
   ]
  },
  {
   "cell_type": "code",
   "execution_count": 7,
   "metadata": {},
   "outputs": [],
   "source": [
    "vector_index = VectorIndex(\n",
    "    docs,\n",
    "    index_path=VECTOR_INDEX_PATH,\n",
    "    vector_db_type=VECTOR_DB_TYPE,\n",
    "    embedding_function=embedding_function,\n",
    ")"
   ]
  },
  {
   "cell_type": "code",
   "execution_count": 16,
   "metadata": {},
   "outputs": [
    {
     "name": "stdout",
     "output_type": "stream",
     "text": [
      "Docs in the vector store: 9\n"
     ]
    }
   ],
   "source": [
    "print(\"Docs in the vector store:\", len(vector_index.index.docstore._dict.items()))"
   ]
  },
  {
   "cell_type": "code",
   "execution_count": 23,
   "metadata": {},
   "outputs": [],
   "source": [
    "items = vector_index.index.docstore._dict.items()"
   ]
  },
  {
   "cell_type": "markdown",
   "metadata": {},
   "source": [
    "* Page Content"
   ]
  },
  {
   "cell_type": "code",
   "execution_count": 25,
   "metadata": {},
   "outputs": [
    {
     "name": "stdout",
     "output_type": "stream",
     "text": [
      "{'summary': 'List all pets', 'url': '/pets', 'operationId': 'listPets', 'http_method': 'get', 'country': 'br', 'parameters': [{'name': 'limit', 'in': 'query', 'description': 'How many items to return at one time (max 100)', 'required': False, 'schema': {'type': 'integer', 'maximum': 100, 'format': 'int32'}}]}\n",
      "{'summary': 'Info for a specific pet', 'url': '/pets/{petId}', 'operationId': 'showPetById', 'http_method': 'get', 'country': 'br', 'parameters': [{'name': 'petId', 'in': 'path', 'required': True, 'description': 'The id of the pet to retrieve', 'schema': {'type': 'string'}}]}\n",
      "{'summary': 'Create a pet', 'url': '/pets', 'operationId': 'createPets', 'http_method': 'post', 'country': 'br', 'parameters': None}\n",
      "{'summary': 'List all pets', 'url': '/pets', 'operationId': 'listPets', 'http_method': 'get', 'country': 'core', 'parameters': [{'name': 'limit', 'in': 'query', 'description': 'How many items to return at one time (max 100)', 'required': False, 'schema': {'type': 'integer', 'maximum': 100, 'format': 'int32'}}]}\n",
      "{'summary': 'Info for a specific pet', 'url': '/pets/{petId}', 'operationId': 'showPetById', 'http_method': 'get', 'country': 'core', 'parameters': [{'name': 'petId', 'in': 'path', 'required': True, 'description': 'The id of the pet to retrieve', 'schema': {'type': 'string'}}]}\n",
      "{'summary': 'Create a pet', 'url': '/pets', 'operationId': 'createPets', 'http_method': 'post', 'country': 'core', 'parameters': None}\n",
      "{'summary': 'List all pets', 'url': '/pets', 'operationId': 'listPets', 'http_method': 'get', 'country': 'mx', 'parameters': [{'name': 'limit', 'in': 'query', 'description': 'How many items to return at one time (max 100)', 'required': False, 'schema': {'type': 'integer', 'maximum': 100, 'format': 'int32'}}]}\n",
      "{'summary': 'Info for a specific pet', 'url': '/pets/{petId}', 'operationId': 'showPetById', 'http_method': 'get', 'country': 'mx', 'parameters': [{'name': 'petId', 'in': 'path', 'required': True, 'description': 'The id of the pet to retrieve', 'schema': {'type': 'string'}}]}\n",
      "{'summary': 'Create a pet', 'url': '/pets', 'operationId': 'createPets', 'http_method': 'post', 'country': 'mx', 'parameters': None}\n"
     ]
    }
   ],
   "source": [
    "for item in items:\n",
    "    print(item[1].page_content)"
   ]
  },
  {
   "cell_type": "markdown",
   "metadata": {},
   "source": [
    "* Metadata"
   ]
  },
  {
   "cell_type": "code",
   "execution_count": 26,
   "metadata": {},
   "outputs": [
    {
     "name": "stdout",
     "output_type": "stream",
     "text": [
      "{'source': 'br_petstore.yaml'}\n",
      "{'source': 'br_petstore.yaml'}\n",
      "{'source': 'br_petstore.yaml'}\n",
      "{'source': 'core_petstore.yaml'}\n",
      "{'source': 'core_petstore.yaml'}\n",
      "{'source': 'core_petstore.yaml'}\n",
      "{'source': 'mx_petstore.yaml'}\n",
      "{'source': 'mx_petstore.yaml'}\n",
      "{'source': 'mx_petstore.yaml'}\n"
     ]
    }
   ],
   "source": [
    "for item in items:\n",
    "    print(item[1].metadata)"
   ]
  },
  {
   "cell_type": "markdown",
   "metadata": {},
   "source": [
    "* Ids"
   ]
  },
  {
   "cell_type": "code",
   "execution_count": 27,
   "metadata": {},
   "outputs": [
    {
     "name": "stdout",
     "output_type": "stream",
     "text": [
      "id 03da69dc-39b8-4455-a22b-c7a85a0f2884\n",
      "id 3bf6aa7f-4680-45c1-a84d-15df06117d65\n",
      "id fc3fa850-123a-4f4b-986f-edb2e4826eab\n",
      "id 89754c34-ae32-4520-a4e0-c3bab59ea6cb\n",
      "id 91ef618a-a82a-4510-b266-0e7056c342f0\n",
      "id c4b284fd-99de-40fe-bc41-9cca58f36e01\n",
      "id d418b87a-328f-472f-a2f3-5e49524bc5c6\n",
      "id 393c3751-cc16-4502-8597-a38fff054e51\n",
      "id 133a6bc2-fd21-4349-ae6e-b18173ed968a\n"
     ]
    }
   ],
   "source": [
    "for item in items:\n",
    "    print(\"id\", item[0])\n"
   ]
  },
  {
   "cell_type": "markdown",
   "metadata": {},
   "source": [
    "* All items"
   ]
  },
  {
   "cell_type": "code",
   "execution_count": 14,
   "metadata": {},
   "outputs": [
    {
     "data": {
      "text/plain": [
       "{'03da69dc-39b8-4455-a22b-c7a85a0f2884': Document(page_content=\"{'summary': 'List all pets', 'url': '/pets', 'operationId': 'listPets', 'http_method': 'get', 'country': 'br', 'parameters': [{'name': 'limit', 'in': 'query', 'description': 'How many items to return at one time (max 100)', 'required': False, 'schema': {'type': 'integer', 'maximum': 100, 'format': 'int32'}}]}\", metadata={'source': 'br_petstore.yaml'}),\n",
       " '3bf6aa7f-4680-45c1-a84d-15df06117d65': Document(page_content=\"{'summary': 'Info for a specific pet', 'url': '/pets/{petId}', 'operationId': 'showPetById', 'http_method': 'get', 'country': 'br', 'parameters': [{'name': 'petId', 'in': 'path', 'required': True, 'description': 'The id of the pet to retrieve', 'schema': {'type': 'string'}}]}\", metadata={'source': 'br_petstore.yaml'}),\n",
       " 'fc3fa850-123a-4f4b-986f-edb2e4826eab': Document(page_content=\"{'summary': 'Create a pet', 'url': '/pets', 'operationId': 'createPets', 'http_method': 'post', 'country': 'br', 'parameters': None}\", metadata={'source': 'br_petstore.yaml'}),\n",
       " '89754c34-ae32-4520-a4e0-c3bab59ea6cb': Document(page_content=\"{'summary': 'List all pets', 'url': '/pets', 'operationId': 'listPets', 'http_method': 'get', 'country': 'core', 'parameters': [{'name': 'limit', 'in': 'query', 'description': 'How many items to return at one time (max 100)', 'required': False, 'schema': {'type': 'integer', 'maximum': 100, 'format': 'int32'}}]}\", metadata={'source': 'core_petstore.yaml'}),\n",
       " '91ef618a-a82a-4510-b266-0e7056c342f0': Document(page_content=\"{'summary': 'Info for a specific pet', 'url': '/pets/{petId}', 'operationId': 'showPetById', 'http_method': 'get', 'country': 'core', 'parameters': [{'name': 'petId', 'in': 'path', 'required': True, 'description': 'The id of the pet to retrieve', 'schema': {'type': 'string'}}]}\", metadata={'source': 'core_petstore.yaml'}),\n",
       " 'c4b284fd-99de-40fe-bc41-9cca58f36e01': Document(page_content=\"{'summary': 'Create a pet', 'url': '/pets', 'operationId': 'createPets', 'http_method': 'post', 'country': 'core', 'parameters': None}\", metadata={'source': 'core_petstore.yaml'}),\n",
       " 'd418b87a-328f-472f-a2f3-5e49524bc5c6': Document(page_content=\"{'summary': 'List all pets', 'url': '/pets', 'operationId': 'listPets', 'http_method': 'get', 'country': 'mx', 'parameters': [{'name': 'limit', 'in': 'query', 'description': 'How many items to return at one time (max 100)', 'required': False, 'schema': {'type': 'integer', 'maximum': 100, 'format': 'int32'}}]}\", metadata={'source': 'mx_petstore.yaml'}),\n",
       " '393c3751-cc16-4502-8597-a38fff054e51': Document(page_content=\"{'summary': 'Info for a specific pet', 'url': '/pets/{petId}', 'operationId': 'showPetById', 'http_method': 'get', 'country': 'mx', 'parameters': [{'name': 'petId', 'in': 'path', 'required': True, 'description': 'The id of the pet to retrieve', 'schema': {'type': 'string'}}]}\", metadata={'source': 'mx_petstore.yaml'}),\n",
       " '133a6bc2-fd21-4349-ae6e-b18173ed968a': Document(page_content=\"{'summary': 'Create a pet', 'url': '/pets', 'operationId': 'createPets', 'http_method': 'post', 'country': 'mx', 'parameters': None}\", metadata={'source': 'mx_petstore.yaml'})}"
      ]
     },
     "execution_count": 14,
     "metadata": {},
     "output_type": "execute_result"
    }
   ],
   "source": [
    "vector_index.index.docstore._dict"
   ]
  }
 ],
 "metadata": {
  "kernelspec": {
   "display_name": "mrag",
   "language": "python",
   "name": "python3"
  },
  "language_info": {
   "codemirror_mode": {
    "name": "ipython",
    "version": 3
   },
   "file_extension": ".py",
   "mimetype": "text/x-python",
   "name": "python",
   "nbconvert_exporter": "python",
   "pygments_lexer": "ipython3",
   "version": "3.11.7"
  }
 },
 "nbformat": 4,
 "nbformat_minor": 2
}
